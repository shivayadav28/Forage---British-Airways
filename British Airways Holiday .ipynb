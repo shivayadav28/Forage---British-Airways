{
 "cells": [
  {
   "cell_type": "markdown",
   "id": "f3ac6d74",
   "metadata": {},
   "source": [
    "## 1.Importing the libraries"
   ]
  },
  {
   "cell_type": "code",
   "execution_count": 1,
   "id": "a44849a9",
   "metadata": {},
   "outputs": [],
   "source": [
    "\n",
    "import pandas as pd\n",
    "import numpy as np\n",
    "import matplotlib.pyplot as plt\n",
    "import seaborn as sns\n",
    "\n",
    "from warnings import filterwarnings\n",
    "filterwarnings('ignore')\n",
    "\n",
    "# 'Scikit-learn' (sklearn)\n",
    "from sklearn.model_selection import train_test_split\n",
    "from sklearn import metrics\n",
    "from sklearn import preprocessing\n",
    "from sklearn.model_selection import GridSearchCV\n",
    "from sklearn.ensemble import RandomForestRegressor"
   ]
  },
  {
   "cell_type": "markdown",
   "id": "6abaf932",
   "metadata": {},
   "source": [
    "## 2.Importing the dataset"
   ]
  },
  {
   "cell_type": "code",
   "execution_count": 2,
   "id": "56471e6e",
   "metadata": {},
   "outputs": [
    {
     "data": {
      "text/html": [
       "<div>\n",
       "<style scoped>\n",
       "    .dataframe tbody tr th:only-of-type {\n",
       "        vertical-align: middle;\n",
       "    }\n",
       "\n",
       "    .dataframe tbody tr th {\n",
       "        vertical-align: top;\n",
       "    }\n",
       "\n",
       "    .dataframe thead th {\n",
       "        text-align: right;\n",
       "    }\n",
       "</style>\n",
       "<table border=\"1\" class=\"dataframe\">\n",
       "  <thead>\n",
       "    <tr style=\"text-align: right;\">\n",
       "      <th></th>\n",
       "      <th>num_passengers</th>\n",
       "      <th>sales_channel</th>\n",
       "      <th>trip_type</th>\n",
       "      <th>purchase_lead</th>\n",
       "      <th>length_of_stay</th>\n",
       "      <th>flight_hour</th>\n",
       "      <th>flight_day</th>\n",
       "      <th>route</th>\n",
       "      <th>booking_origin</th>\n",
       "      <th>wants_extra_baggage</th>\n",
       "      <th>wants_preferred_seat</th>\n",
       "      <th>wants_in_flight_meals</th>\n",
       "      <th>flight_duration</th>\n",
       "      <th>booking_complete</th>\n",
       "    </tr>\n",
       "  </thead>\n",
       "  <tbody>\n",
       "    <tr>\n",
       "      <th>0</th>\n",
       "      <td>2</td>\n",
       "      <td>Internet</td>\n",
       "      <td>RoundTrip</td>\n",
       "      <td>262</td>\n",
       "      <td>19</td>\n",
       "      <td>7</td>\n",
       "      <td>Sat</td>\n",
       "      <td>AKLDEL</td>\n",
       "      <td>New Zealand</td>\n",
       "      <td>1</td>\n",
       "      <td>0</td>\n",
       "      <td>0</td>\n",
       "      <td>5.52</td>\n",
       "      <td>0</td>\n",
       "    </tr>\n",
       "    <tr>\n",
       "      <th>1</th>\n",
       "      <td>1</td>\n",
       "      <td>Internet</td>\n",
       "      <td>RoundTrip</td>\n",
       "      <td>112</td>\n",
       "      <td>20</td>\n",
       "      <td>3</td>\n",
       "      <td>Sat</td>\n",
       "      <td>AKLDEL</td>\n",
       "      <td>New Zealand</td>\n",
       "      <td>0</td>\n",
       "      <td>0</td>\n",
       "      <td>0</td>\n",
       "      <td>5.52</td>\n",
       "      <td>0</td>\n",
       "    </tr>\n",
       "    <tr>\n",
       "      <th>2</th>\n",
       "      <td>2</td>\n",
       "      <td>Internet</td>\n",
       "      <td>RoundTrip</td>\n",
       "      <td>243</td>\n",
       "      <td>22</td>\n",
       "      <td>17</td>\n",
       "      <td>Wed</td>\n",
       "      <td>AKLDEL</td>\n",
       "      <td>India</td>\n",
       "      <td>1</td>\n",
       "      <td>1</td>\n",
       "      <td>0</td>\n",
       "      <td>5.52</td>\n",
       "      <td>0</td>\n",
       "    </tr>\n",
       "    <tr>\n",
       "      <th>3</th>\n",
       "      <td>1</td>\n",
       "      <td>Internet</td>\n",
       "      <td>RoundTrip</td>\n",
       "      <td>96</td>\n",
       "      <td>31</td>\n",
       "      <td>4</td>\n",
       "      <td>Sat</td>\n",
       "      <td>AKLDEL</td>\n",
       "      <td>New Zealand</td>\n",
       "      <td>0</td>\n",
       "      <td>0</td>\n",
       "      <td>1</td>\n",
       "      <td>5.52</td>\n",
       "      <td>0</td>\n",
       "    </tr>\n",
       "    <tr>\n",
       "      <th>4</th>\n",
       "      <td>2</td>\n",
       "      <td>Internet</td>\n",
       "      <td>RoundTrip</td>\n",
       "      <td>68</td>\n",
       "      <td>22</td>\n",
       "      <td>15</td>\n",
       "      <td>Wed</td>\n",
       "      <td>AKLDEL</td>\n",
       "      <td>India</td>\n",
       "      <td>1</td>\n",
       "      <td>0</td>\n",
       "      <td>1</td>\n",
       "      <td>5.52</td>\n",
       "      <td>0</td>\n",
       "    </tr>\n",
       "  </tbody>\n",
       "</table>\n",
       "</div>"
      ],
      "text/plain": [
       "   num_passengers sales_channel  trip_type  purchase_lead  length_of_stay  \\\n",
       "0               2      Internet  RoundTrip            262              19   \n",
       "1               1      Internet  RoundTrip            112              20   \n",
       "2               2      Internet  RoundTrip            243              22   \n",
       "3               1      Internet  RoundTrip             96              31   \n",
       "4               2      Internet  RoundTrip             68              22   \n",
       "\n",
       "   flight_hour flight_day   route booking_origin  wants_extra_baggage  \\\n",
       "0            7        Sat  AKLDEL    New Zealand                    1   \n",
       "1            3        Sat  AKLDEL    New Zealand                    0   \n",
       "2           17        Wed  AKLDEL          India                    1   \n",
       "3            4        Sat  AKLDEL    New Zealand                    0   \n",
       "4           15        Wed  AKLDEL          India                    1   \n",
       "\n",
       "   wants_preferred_seat  wants_in_flight_meals  flight_duration  \\\n",
       "0                     0                      0             5.52   \n",
       "1                     0                      0             5.52   \n",
       "2                     1                      0             5.52   \n",
       "3                     0                      1             5.52   \n",
       "4                     0                      1             5.52   \n",
       "\n",
       "   booking_complete  \n",
       "0                 0  \n",
       "1                 0  \n",
       "2                 0  \n",
       "3                 0  \n",
       "4                 0  "
      ]
     },
     "execution_count": 2,
     "metadata": {},
     "output_type": "execute_result"
    }
   ],
   "source": [
    "df=pd.read_csv(r\"C:\\Users\\shiva\\Documents\\British Airways\\customer_booking.csv\",encoding=\"ISO-8859-1\")\n",
    "df.head()"
   ]
  },
  {
   "cell_type": "code",
   "execution_count": 3,
   "id": "6227035a",
   "metadata": {},
   "outputs": [
    {
     "name": "stdout",
     "output_type": "stream",
     "text": [
      "<class 'pandas.core.frame.DataFrame'>\n",
      "RangeIndex: 50000 entries, 0 to 49999\n",
      "Data columns (total 14 columns):\n",
      " #   Column                 Non-Null Count  Dtype  \n",
      "---  ------                 --------------  -----  \n",
      " 0   num_passengers         50000 non-null  int64  \n",
      " 1   sales_channel          50000 non-null  object \n",
      " 2   trip_type              50000 non-null  object \n",
      " 3   purchase_lead          50000 non-null  int64  \n",
      " 4   length_of_stay         50000 non-null  int64  \n",
      " 5   flight_hour            50000 non-null  int64  \n",
      " 6   flight_day             50000 non-null  object \n",
      " 7   route                  50000 non-null  object \n",
      " 8   booking_origin         50000 non-null  object \n",
      " 9   wants_extra_baggage    50000 non-null  int64  \n",
      " 10  wants_preferred_seat   50000 non-null  int64  \n",
      " 11  wants_in_flight_meals  50000 non-null  int64  \n",
      " 12  flight_duration        50000 non-null  float64\n",
      " 13  booking_complete       50000 non-null  int64  \n",
      "dtypes: float64(1), int64(8), object(5)\n",
      "memory usage: 5.3+ MB\n"
     ]
    }
   ],
   "source": [
    "df.info()"
   ]
  },
  {
   "cell_type": "markdown",
   "id": "fe6ff551",
   "metadata": {},
   "source": [
    "The .info() method gives us a data description, telling us the names of the columns, their data types and how many null values we have. Fortunately, we have no null values. It looks like some of these columns should be converted into different data types, e.g. flight_day.\n",
    "\n",
    "To provide more context, below is a more detailed data description, explaining exactly what each column means:\n",
    "\n",
    "num_passengers = number of passengers travelling\n",
    "\n",
    "sales_channel = sales channel booking was made on\n",
    "\n",
    "trip_type = trip Type (Round Trip, One Way, Circle Trip)\n",
    "\n",
    "purchase_lead = number of days between travel date and booking date\n",
    "\n",
    "length_of_stay = number of days spent at destination\n",
    "\n",
    "flight_hour = hour of flight departure\n",
    "\n",
    "flight_day = day of week of flight departure\n",
    "\n",
    "route = origin -> destination flight route\n",
    "\n",
    "booking_origin = country from where booking was made\n",
    "\n",
    "wants_extra_baggage = if the customer wanted extra baggage in the booking\n",
    "\n",
    "wants_preferred_seat = if the customer wanted a preferred seat in the booking\n",
    "\n",
    "wants_in_flight_meals = if the customer wanted in-flight meals in the booking\n",
    "\n",
    "flight_duration = total duration of flight (in hours)\n",
    "\n",
    "booking_complete = flag indicating if the customer completed the booking\n",
    "\n",
    "Before we compute any statistics on the data, lets do any necessary data conversion"
   ]
  },
  {
   "cell_type": "code",
   "execution_count": 4,
   "id": "96f7aab2",
   "metadata": {},
   "outputs": [
    {
     "data": {
      "text/plain": [
       "array(['Sat', 'Wed', 'Thu', 'Mon', 'Sun', 'Tue', 'Fri'], dtype=object)"
      ]
     },
     "execution_count": 4,
     "metadata": {},
     "output_type": "execute_result"
    }
   ],
   "source": [
    "df['flight_day'].unique()"
   ]
  },
  {
   "cell_type": "code",
   "execution_count": 5,
   "id": "0e7f4908",
   "metadata": {},
   "outputs": [],
   "source": [
    "mapping={\n",
    "    'Mon':1,\n",
    "    'Tue':2, \n",
    "    'Wed':3,\n",
    "    'Thu':4,\n",
    "    'Fri':5,\n",
    "    'Sat':6,\n",
    "    'Sun':7\n",
    "}\n",
    "df['flight_day']=df['flight_day'].map(mapping)"
   ]
  },
  {
   "cell_type": "code",
   "execution_count": 6,
   "id": "04d83151",
   "metadata": {},
   "outputs": [
    {
     "data": {
      "text/plain": [
       "array([6, 3, 4, 1, 7, 2, 5], dtype=int64)"
      ]
     },
     "execution_count": 6,
     "metadata": {},
     "output_type": "execute_result"
    }
   ],
   "source": [
    "df['flight_day'].unique()"
   ]
  },
  {
   "cell_type": "code",
   "execution_count": 7,
   "id": "b0f7ccba",
   "metadata": {},
   "outputs": [
    {
     "data": {
      "text/html": [
       "<div>\n",
       "<style scoped>\n",
       "    .dataframe tbody tr th:only-of-type {\n",
       "        vertical-align: middle;\n",
       "    }\n",
       "\n",
       "    .dataframe tbody tr th {\n",
       "        vertical-align: top;\n",
       "    }\n",
       "\n",
       "    .dataframe thead th {\n",
       "        text-align: right;\n",
       "    }\n",
       "</style>\n",
       "<table border=\"1\" class=\"dataframe\">\n",
       "  <thead>\n",
       "    <tr style=\"text-align: right;\">\n",
       "      <th></th>\n",
       "      <th>num_passengers</th>\n",
       "      <th>purchase_lead</th>\n",
       "      <th>length_of_stay</th>\n",
       "      <th>flight_hour</th>\n",
       "      <th>flight_day</th>\n",
       "      <th>wants_extra_baggage</th>\n",
       "      <th>wants_preferred_seat</th>\n",
       "      <th>wants_in_flight_meals</th>\n",
       "      <th>flight_duration</th>\n",
       "      <th>booking_complete</th>\n",
       "    </tr>\n",
       "  </thead>\n",
       "  <tbody>\n",
       "    <tr>\n",
       "      <th>count</th>\n",
       "      <td>50000.000000</td>\n",
       "      <td>50000.000000</td>\n",
       "      <td>50000.00000</td>\n",
       "      <td>50000.00000</td>\n",
       "      <td>50000.000000</td>\n",
       "      <td>50000.000000</td>\n",
       "      <td>50000.000000</td>\n",
       "      <td>50000.000000</td>\n",
       "      <td>50000.000000</td>\n",
       "      <td>50000.000000</td>\n",
       "    </tr>\n",
       "    <tr>\n",
       "      <th>mean</th>\n",
       "      <td>1.591240</td>\n",
       "      <td>84.940480</td>\n",
       "      <td>23.04456</td>\n",
       "      <td>9.06634</td>\n",
       "      <td>3.814420</td>\n",
       "      <td>0.668780</td>\n",
       "      <td>0.296960</td>\n",
       "      <td>0.427140</td>\n",
       "      <td>7.277561</td>\n",
       "      <td>0.149560</td>\n",
       "    </tr>\n",
       "    <tr>\n",
       "      <th>std</th>\n",
       "      <td>1.020165</td>\n",
       "      <td>90.451378</td>\n",
       "      <td>33.88767</td>\n",
       "      <td>5.41266</td>\n",
       "      <td>1.992792</td>\n",
       "      <td>0.470657</td>\n",
       "      <td>0.456923</td>\n",
       "      <td>0.494668</td>\n",
       "      <td>1.496863</td>\n",
       "      <td>0.356643</td>\n",
       "    </tr>\n",
       "    <tr>\n",
       "      <th>min</th>\n",
       "      <td>1.000000</td>\n",
       "      <td>0.000000</td>\n",
       "      <td>0.00000</td>\n",
       "      <td>0.00000</td>\n",
       "      <td>1.000000</td>\n",
       "      <td>0.000000</td>\n",
       "      <td>0.000000</td>\n",
       "      <td>0.000000</td>\n",
       "      <td>4.670000</td>\n",
       "      <td>0.000000</td>\n",
       "    </tr>\n",
       "    <tr>\n",
       "      <th>25%</th>\n",
       "      <td>1.000000</td>\n",
       "      <td>21.000000</td>\n",
       "      <td>5.00000</td>\n",
       "      <td>5.00000</td>\n",
       "      <td>2.000000</td>\n",
       "      <td>0.000000</td>\n",
       "      <td>0.000000</td>\n",
       "      <td>0.000000</td>\n",
       "      <td>5.620000</td>\n",
       "      <td>0.000000</td>\n",
       "    </tr>\n",
       "    <tr>\n",
       "      <th>50%</th>\n",
       "      <td>1.000000</td>\n",
       "      <td>51.000000</td>\n",
       "      <td>17.00000</td>\n",
       "      <td>9.00000</td>\n",
       "      <td>4.000000</td>\n",
       "      <td>1.000000</td>\n",
       "      <td>0.000000</td>\n",
       "      <td>0.000000</td>\n",
       "      <td>7.570000</td>\n",
       "      <td>0.000000</td>\n",
       "    </tr>\n",
       "    <tr>\n",
       "      <th>75%</th>\n",
       "      <td>2.000000</td>\n",
       "      <td>115.000000</td>\n",
       "      <td>28.00000</td>\n",
       "      <td>13.00000</td>\n",
       "      <td>5.000000</td>\n",
       "      <td>1.000000</td>\n",
       "      <td>1.000000</td>\n",
       "      <td>1.000000</td>\n",
       "      <td>8.830000</td>\n",
       "      <td>0.000000</td>\n",
       "    </tr>\n",
       "    <tr>\n",
       "      <th>max</th>\n",
       "      <td>9.000000</td>\n",
       "      <td>867.000000</td>\n",
       "      <td>778.00000</td>\n",
       "      <td>23.00000</td>\n",
       "      <td>7.000000</td>\n",
       "      <td>1.000000</td>\n",
       "      <td>1.000000</td>\n",
       "      <td>1.000000</td>\n",
       "      <td>9.500000</td>\n",
       "      <td>1.000000</td>\n",
       "    </tr>\n",
       "  </tbody>\n",
       "</table>\n",
       "</div>"
      ],
      "text/plain": [
       "       num_passengers  purchase_lead  length_of_stay  flight_hour  \\\n",
       "count    50000.000000   50000.000000     50000.00000  50000.00000   \n",
       "mean         1.591240      84.940480        23.04456      9.06634   \n",
       "std          1.020165      90.451378        33.88767      5.41266   \n",
       "min          1.000000       0.000000         0.00000      0.00000   \n",
       "25%          1.000000      21.000000         5.00000      5.00000   \n",
       "50%          1.000000      51.000000        17.00000      9.00000   \n",
       "75%          2.000000     115.000000        28.00000     13.00000   \n",
       "max          9.000000     867.000000       778.00000     23.00000   \n",
       "\n",
       "         flight_day  wants_extra_baggage  wants_preferred_seat  \\\n",
       "count  50000.000000         50000.000000          50000.000000   \n",
       "mean       3.814420             0.668780              0.296960   \n",
       "std        1.992792             0.470657              0.456923   \n",
       "min        1.000000             0.000000              0.000000   \n",
       "25%        2.000000             0.000000              0.000000   \n",
       "50%        4.000000             1.000000              0.000000   \n",
       "75%        5.000000             1.000000              1.000000   \n",
       "max        7.000000             1.000000              1.000000   \n",
       "\n",
       "       wants_in_flight_meals  flight_duration  booking_complete  \n",
       "count           50000.000000     50000.000000      50000.000000  \n",
       "mean                0.427140         7.277561          0.149560  \n",
       "std                 0.494668         1.496863          0.356643  \n",
       "min                 0.000000         4.670000          0.000000  \n",
       "25%                 0.000000         5.620000          0.000000  \n",
       "50%                 0.000000         7.570000          0.000000  \n",
       "75%                 1.000000         8.830000          0.000000  \n",
       "max                 1.000000         9.500000          1.000000  "
      ]
     },
     "execution_count": 7,
     "metadata": {},
     "output_type": "execute_result"
    }
   ],
   "source": [
    "df.describe()"
   ]
  },
  {
   "cell_type": "markdown",
   "id": "77d006bd",
   "metadata": {},
   "source": [
    "The .describe() method gives us a summary of descriptive statistics over the entire dataset (only works for numeric columns). This gives us a quick overview of a few things such as the mean, min, max and overall distribution of each column.\n",
    "\n",
    "From this point, you should continue exploring the dataset with some visualisations and other metrics that you think may be useful. Then, you should prepare your dataset for predictive modelling. Finally, you should train your machine learning model, evaluate it with performance metrics and output visualisations for the contributing variables. All of this analysis should be summarised in your single slide."
   ]
  },
  {
   "cell_type": "markdown",
   "id": "50be19ec",
   "metadata": {},
   "source": [
    "## 3.Exploratory Data Analysis\n",
    "\n",
    "Exploratory Data Analysis (EDA), also known as Data Exploration, it is a step in the Data Analysis Process, where a number of techniques are used to better understand the dataset being used.\n",
    "\n",
    "In this step, we will perform the below operations:\n",
    "\n",
    "3.1) understanding Your Variables\n",
    "   \n",
    "    3.1.1) Head of the dataset\n",
    "    \n",
    "    3.1.2) The shape of the dataset\n",
    "    \n",
    "    3.1.3) List types of all columns\n",
    "    \n",
    "    3.1.4) Info of the dataset\n",
    "    \n",
    "    3.1.5) Summary of the dataset\n",
    "    \n",
    "3.2) Data Cleaning\n",
    "    \n",
    "    3.2.1) Checking the Duplicates\n",
    "    \n",
    "    3.2.2) Check the Null values\n",
    "\n",
    "3.1.1) Head of the Dataset\n",
    "The head() function will tell you the top records in the dataset. By default, python shows you only the top 5 records.\n",
    "\n",
    "This head(n) function returns the first n rows for the object based on position. It is useful for quickly testing if your object has the right type of data in it. By default it will show 5 rows."
   ]
  },
  {
   "cell_type": "code",
   "execution_count": 13,
   "id": "1f0b58d0",
   "metadata": {},
   "outputs": [
    {
     "data": {
      "text/html": [
       "<div>\n",
       "<style scoped>\n",
       "    .dataframe tbody tr th:only-of-type {\n",
       "        vertical-align: middle;\n",
       "    }\n",
       "\n",
       "    .dataframe tbody tr th {\n",
       "        vertical-align: top;\n",
       "    }\n",
       "\n",
       "    .dataframe thead th {\n",
       "        text-align: right;\n",
       "    }\n",
       "</style>\n",
       "<table border=\"1\" class=\"dataframe\">\n",
       "  <thead>\n",
       "    <tr style=\"text-align: right;\">\n",
       "      <th></th>\n",
       "      <th>num_passengers</th>\n",
       "      <th>sales_channel</th>\n",
       "      <th>trip_type</th>\n",
       "      <th>purchase_lead</th>\n",
       "      <th>length_of_stay</th>\n",
       "      <th>flight_hour</th>\n",
       "      <th>flight_day</th>\n",
       "      <th>route</th>\n",
       "      <th>booking_origin</th>\n",
       "      <th>wants_extra_baggage</th>\n",
       "      <th>wants_preferred_seat</th>\n",
       "      <th>wants_in_flight_meals</th>\n",
       "      <th>flight_duration</th>\n",
       "      <th>booking_complete</th>\n",
       "    </tr>\n",
       "  </thead>\n",
       "  <tbody>\n",
       "    <tr>\n",
       "      <th>0</th>\n",
       "      <td>2</td>\n",
       "      <td>Internet</td>\n",
       "      <td>RoundTrip</td>\n",
       "      <td>262</td>\n",
       "      <td>19</td>\n",
       "      <td>7</td>\n",
       "      <td>6</td>\n",
       "      <td>AKLDEL</td>\n",
       "      <td>New Zealand</td>\n",
       "      <td>1</td>\n",
       "      <td>0</td>\n",
       "      <td>0</td>\n",
       "      <td>5.52</td>\n",
       "      <td>0</td>\n",
       "    </tr>\n",
       "    <tr>\n",
       "      <th>1</th>\n",
       "      <td>1</td>\n",
       "      <td>Internet</td>\n",
       "      <td>RoundTrip</td>\n",
       "      <td>112</td>\n",
       "      <td>20</td>\n",
       "      <td>3</td>\n",
       "      <td>6</td>\n",
       "      <td>AKLDEL</td>\n",
       "      <td>New Zealand</td>\n",
       "      <td>0</td>\n",
       "      <td>0</td>\n",
       "      <td>0</td>\n",
       "      <td>5.52</td>\n",
       "      <td>0</td>\n",
       "    </tr>\n",
       "    <tr>\n",
       "      <th>2</th>\n",
       "      <td>2</td>\n",
       "      <td>Internet</td>\n",
       "      <td>RoundTrip</td>\n",
       "      <td>243</td>\n",
       "      <td>22</td>\n",
       "      <td>17</td>\n",
       "      <td>3</td>\n",
       "      <td>AKLDEL</td>\n",
       "      <td>India</td>\n",
       "      <td>1</td>\n",
       "      <td>1</td>\n",
       "      <td>0</td>\n",
       "      <td>5.52</td>\n",
       "      <td>0</td>\n",
       "    </tr>\n",
       "    <tr>\n",
       "      <th>3</th>\n",
       "      <td>1</td>\n",
       "      <td>Internet</td>\n",
       "      <td>RoundTrip</td>\n",
       "      <td>96</td>\n",
       "      <td>31</td>\n",
       "      <td>4</td>\n",
       "      <td>6</td>\n",
       "      <td>AKLDEL</td>\n",
       "      <td>New Zealand</td>\n",
       "      <td>0</td>\n",
       "      <td>0</td>\n",
       "      <td>1</td>\n",
       "      <td>5.52</td>\n",
       "      <td>0</td>\n",
       "    </tr>\n",
       "    <tr>\n",
       "      <th>4</th>\n",
       "      <td>2</td>\n",
       "      <td>Internet</td>\n",
       "      <td>RoundTrip</td>\n",
       "      <td>68</td>\n",
       "      <td>22</td>\n",
       "      <td>15</td>\n",
       "      <td>3</td>\n",
       "      <td>AKLDEL</td>\n",
       "      <td>India</td>\n",
       "      <td>1</td>\n",
       "      <td>0</td>\n",
       "      <td>1</td>\n",
       "      <td>5.52</td>\n",
       "      <td>0</td>\n",
       "    </tr>\n",
       "  </tbody>\n",
       "</table>\n",
       "</div>"
      ],
      "text/plain": [
       "   num_passengers sales_channel  trip_type  purchase_lead  length_of_stay  \\\n",
       "0               2      Internet  RoundTrip            262              19   \n",
       "1               1      Internet  RoundTrip            112              20   \n",
       "2               2      Internet  RoundTrip            243              22   \n",
       "3               1      Internet  RoundTrip             96              31   \n",
       "4               2      Internet  RoundTrip             68              22   \n",
       "\n",
       "   flight_hour  flight_day   route booking_origin  wants_extra_baggage  \\\n",
       "0            7           6  AKLDEL    New Zealand                    1   \n",
       "1            3           6  AKLDEL    New Zealand                    0   \n",
       "2           17           3  AKLDEL          India                    1   \n",
       "3            4           6  AKLDEL    New Zealand                    0   \n",
       "4           15           3  AKLDEL          India                    1   \n",
       "\n",
       "   wants_preferred_seat  wants_in_flight_meals  flight_duration  \\\n",
       "0                     0                      0             5.52   \n",
       "1                     0                      0             5.52   \n",
       "2                     1                      0             5.52   \n",
       "3                     0                      1             5.52   \n",
       "4                     0                      1             5.52   \n",
       "\n",
       "   booking_complete  \n",
       "0                 0  \n",
       "1                 0  \n",
       "2                 0  \n",
       "3                 0  \n",
       "4                 0  "
      ]
     },
     "execution_count": 13,
     "metadata": {},
     "output_type": "execute_result"
    }
   ],
   "source": [
    "df.head()"
   ]
  },
  {
   "cell_type": "code",
   "execution_count": 14,
   "id": "3cb82367",
   "metadata": {},
   "outputs": [
    {
     "data": {
      "text/plain": [
       "(50000, 14)"
      ]
     },
     "execution_count": 14,
     "metadata": {},
     "output_type": "execute_result"
    }
   ],
   "source": [
    "df.shape"
   ]
  },
  {
   "cell_type": "code",
   "execution_count": 15,
   "id": "004799c8",
   "metadata": {},
   "outputs": [
    {
     "name": "stdout",
     "output_type": "stream",
     "text": [
      "<class 'pandas.core.frame.DataFrame'>\n",
      "RangeIndex: 50000 entries, 0 to 49999\n",
      "Data columns (total 14 columns):\n",
      " #   Column                 Non-Null Count  Dtype  \n",
      "---  ------                 --------------  -----  \n",
      " 0   num_passengers         50000 non-null  int64  \n",
      " 1   sales_channel          50000 non-null  object \n",
      " 2   trip_type              50000 non-null  object \n",
      " 3   purchase_lead          50000 non-null  int64  \n",
      " 4   length_of_stay         50000 non-null  int64  \n",
      " 5   flight_hour            50000 non-null  int64  \n",
      " 6   flight_day             50000 non-null  int64  \n",
      " 7   route                  50000 non-null  object \n",
      " 8   booking_origin         50000 non-null  object \n",
      " 9   wants_extra_baggage    50000 non-null  int64  \n",
      " 10  wants_preferred_seat   50000 non-null  int64  \n",
      " 11  wants_in_flight_meals  50000 non-null  int64  \n",
      " 12  flight_duration        50000 non-null  float64\n",
      " 13  booking_complete       50000 non-null  int64  \n",
      "dtypes: float64(1), int64(9), object(4)\n",
      "memory usage: 5.3+ MB\n"
     ]
    }
   ],
   "source": [
    "df.info()"
   ]
  },
  {
   "cell_type": "code",
   "execution_count": 16,
   "id": "8d8d9c2f",
   "metadata": {},
   "outputs": [
    {
     "data": {
      "text/html": [
       "<div>\n",
       "<style scoped>\n",
       "    .dataframe tbody tr th:only-of-type {\n",
       "        vertical-align: middle;\n",
       "    }\n",
       "\n",
       "    .dataframe tbody tr th {\n",
       "        vertical-align: top;\n",
       "    }\n",
       "\n",
       "    .dataframe thead th {\n",
       "        text-align: right;\n",
       "    }\n",
       "</style>\n",
       "<table border=\"1\" class=\"dataframe\">\n",
       "  <thead>\n",
       "    <tr style=\"text-align: right;\">\n",
       "      <th></th>\n",
       "      <th>num_passengers</th>\n",
       "      <th>purchase_lead</th>\n",
       "      <th>length_of_stay</th>\n",
       "      <th>flight_hour</th>\n",
       "      <th>flight_day</th>\n",
       "      <th>wants_extra_baggage</th>\n",
       "      <th>wants_preferred_seat</th>\n",
       "      <th>wants_in_flight_meals</th>\n",
       "      <th>flight_duration</th>\n",
       "      <th>booking_complete</th>\n",
       "    </tr>\n",
       "  </thead>\n",
       "  <tbody>\n",
       "    <tr>\n",
       "      <th>count</th>\n",
       "      <td>50000.000000</td>\n",
       "      <td>50000.000000</td>\n",
       "      <td>50000.00000</td>\n",
       "      <td>50000.00000</td>\n",
       "      <td>50000.000000</td>\n",
       "      <td>50000.000000</td>\n",
       "      <td>50000.000000</td>\n",
       "      <td>50000.000000</td>\n",
       "      <td>50000.000000</td>\n",
       "      <td>50000.000000</td>\n",
       "    </tr>\n",
       "    <tr>\n",
       "      <th>mean</th>\n",
       "      <td>1.591240</td>\n",
       "      <td>84.940480</td>\n",
       "      <td>23.04456</td>\n",
       "      <td>9.06634</td>\n",
       "      <td>3.814420</td>\n",
       "      <td>0.668780</td>\n",
       "      <td>0.296960</td>\n",
       "      <td>0.427140</td>\n",
       "      <td>7.277561</td>\n",
       "      <td>0.149560</td>\n",
       "    </tr>\n",
       "    <tr>\n",
       "      <th>std</th>\n",
       "      <td>1.020165</td>\n",
       "      <td>90.451378</td>\n",
       "      <td>33.88767</td>\n",
       "      <td>5.41266</td>\n",
       "      <td>1.992792</td>\n",
       "      <td>0.470657</td>\n",
       "      <td>0.456923</td>\n",
       "      <td>0.494668</td>\n",
       "      <td>1.496863</td>\n",
       "      <td>0.356643</td>\n",
       "    </tr>\n",
       "    <tr>\n",
       "      <th>min</th>\n",
       "      <td>1.000000</td>\n",
       "      <td>0.000000</td>\n",
       "      <td>0.00000</td>\n",
       "      <td>0.00000</td>\n",
       "      <td>1.000000</td>\n",
       "      <td>0.000000</td>\n",
       "      <td>0.000000</td>\n",
       "      <td>0.000000</td>\n",
       "      <td>4.670000</td>\n",
       "      <td>0.000000</td>\n",
       "    </tr>\n",
       "    <tr>\n",
       "      <th>25%</th>\n",
       "      <td>1.000000</td>\n",
       "      <td>21.000000</td>\n",
       "      <td>5.00000</td>\n",
       "      <td>5.00000</td>\n",
       "      <td>2.000000</td>\n",
       "      <td>0.000000</td>\n",
       "      <td>0.000000</td>\n",
       "      <td>0.000000</td>\n",
       "      <td>5.620000</td>\n",
       "      <td>0.000000</td>\n",
       "    </tr>\n",
       "    <tr>\n",
       "      <th>50%</th>\n",
       "      <td>1.000000</td>\n",
       "      <td>51.000000</td>\n",
       "      <td>17.00000</td>\n",
       "      <td>9.00000</td>\n",
       "      <td>4.000000</td>\n",
       "      <td>1.000000</td>\n",
       "      <td>0.000000</td>\n",
       "      <td>0.000000</td>\n",
       "      <td>7.570000</td>\n",
       "      <td>0.000000</td>\n",
       "    </tr>\n",
       "    <tr>\n",
       "      <th>75%</th>\n",
       "      <td>2.000000</td>\n",
       "      <td>115.000000</td>\n",
       "      <td>28.00000</td>\n",
       "      <td>13.00000</td>\n",
       "      <td>5.000000</td>\n",
       "      <td>1.000000</td>\n",
       "      <td>1.000000</td>\n",
       "      <td>1.000000</td>\n",
       "      <td>8.830000</td>\n",
       "      <td>0.000000</td>\n",
       "    </tr>\n",
       "    <tr>\n",
       "      <th>max</th>\n",
       "      <td>9.000000</td>\n",
       "      <td>867.000000</td>\n",
       "      <td>778.00000</td>\n",
       "      <td>23.00000</td>\n",
       "      <td>7.000000</td>\n",
       "      <td>1.000000</td>\n",
       "      <td>1.000000</td>\n",
       "      <td>1.000000</td>\n",
       "      <td>9.500000</td>\n",
       "      <td>1.000000</td>\n",
       "    </tr>\n",
       "  </tbody>\n",
       "</table>\n",
       "</div>"
      ],
      "text/plain": [
       "       num_passengers  purchase_lead  length_of_stay  flight_hour  \\\n",
       "count    50000.000000   50000.000000     50000.00000  50000.00000   \n",
       "mean         1.591240      84.940480        23.04456      9.06634   \n",
       "std          1.020165      90.451378        33.88767      5.41266   \n",
       "min          1.000000       0.000000         0.00000      0.00000   \n",
       "25%          1.000000      21.000000         5.00000      5.00000   \n",
       "50%          1.000000      51.000000        17.00000      9.00000   \n",
       "75%          2.000000     115.000000        28.00000     13.00000   \n",
       "max          9.000000     867.000000       778.00000     23.00000   \n",
       "\n",
       "         flight_day  wants_extra_baggage  wants_preferred_seat  \\\n",
       "count  50000.000000         50000.000000          50000.000000   \n",
       "mean       3.814420             0.668780              0.296960   \n",
       "std        1.992792             0.470657              0.456923   \n",
       "min        1.000000             0.000000              0.000000   \n",
       "25%        2.000000             0.000000              0.000000   \n",
       "50%        4.000000             1.000000              0.000000   \n",
       "75%        5.000000             1.000000              1.000000   \n",
       "max        7.000000             1.000000              1.000000   \n",
       "\n",
       "       wants_in_flight_meals  flight_duration  booking_complete  \n",
       "count           50000.000000     50000.000000      50000.000000  \n",
       "mean                0.427140         7.277561          0.149560  \n",
       "std                 0.494668         1.496863          0.356643  \n",
       "min                 0.000000         4.670000          0.000000  \n",
       "25%                 0.000000         5.620000          0.000000  \n",
       "50%                 0.000000         7.570000          0.000000  \n",
       "75%                 1.000000         8.830000          0.000000  \n",
       "max                 1.000000         9.500000          1.000000  "
      ]
     },
     "execution_count": 16,
     "metadata": {},
     "output_type": "execute_result"
    }
   ],
   "source": [
    "df.describe()"
   ]
  },
  {
   "cell_type": "markdown",
   "id": "4d57c1f5",
   "metadata": {},
   "source": [
    "By looking the description of the data we can visualize that there may be some outlier or the data is normalized or not."
   ]
  },
  {
   "cell_type": "code",
   "execution_count": 18,
   "id": "5070c122",
   "metadata": {},
   "outputs": [
    {
     "data": {
      "text/html": [
       "<div>\n",
       "<style scoped>\n",
       "    .dataframe tbody tr th:only-of-type {\n",
       "        vertical-align: middle;\n",
       "    }\n",
       "\n",
       "    .dataframe tbody tr th {\n",
       "        vertical-align: top;\n",
       "    }\n",
       "\n",
       "    .dataframe thead th {\n",
       "        text-align: right;\n",
       "    }\n",
       "</style>\n",
       "<table border=\"1\" class=\"dataframe\">\n",
       "  <thead>\n",
       "    <tr style=\"text-align: right;\">\n",
       "      <th></th>\n",
       "      <th>num_passengers</th>\n",
       "      <th>sales_channel</th>\n",
       "      <th>trip_type</th>\n",
       "      <th>purchase_lead</th>\n",
       "      <th>length_of_stay</th>\n",
       "      <th>flight_hour</th>\n",
       "      <th>flight_day</th>\n",
       "      <th>route</th>\n",
       "      <th>booking_origin</th>\n",
       "      <th>wants_extra_baggage</th>\n",
       "      <th>wants_preferred_seat</th>\n",
       "      <th>wants_in_flight_meals</th>\n",
       "      <th>flight_duration</th>\n",
       "      <th>booking_complete</th>\n",
       "    </tr>\n",
       "  </thead>\n",
       "  <tbody>\n",
       "    <tr>\n",
       "      <th>196</th>\n",
       "      <td>5</td>\n",
       "      <td>Internet</td>\n",
       "      <td>RoundTrip</td>\n",
       "      <td>206</td>\n",
       "      <td>17</td>\n",
       "      <td>13</td>\n",
       "      <td>7</td>\n",
       "      <td>AKLKUL</td>\n",
       "      <td>Malaysia</td>\n",
       "      <td>1</td>\n",
       "      <td>0</td>\n",
       "      <td>0</td>\n",
       "      <td>8.83</td>\n",
       "      <td>0</td>\n",
       "    </tr>\n",
       "    <tr>\n",
       "      <th>316</th>\n",
       "      <td>5</td>\n",
       "      <td>Internet</td>\n",
       "      <td>RoundTrip</td>\n",
       "      <td>206</td>\n",
       "      <td>17</td>\n",
       "      <td>13</td>\n",
       "      <td>7</td>\n",
       "      <td>AKLKUL</td>\n",
       "      <td>Malaysia</td>\n",
       "      <td>1</td>\n",
       "      <td>0</td>\n",
       "      <td>0</td>\n",
       "      <td>8.83</td>\n",
       "      <td>0</td>\n",
       "    </tr>\n",
       "    <tr>\n",
       "      <th>384</th>\n",
       "      <td>5</td>\n",
       "      <td>Internet</td>\n",
       "      <td>RoundTrip</td>\n",
       "      <td>206</td>\n",
       "      <td>17</td>\n",
       "      <td>13</td>\n",
       "      <td>7</td>\n",
       "      <td>AKLKUL</td>\n",
       "      <td>Malaysia</td>\n",
       "      <td>1</td>\n",
       "      <td>0</td>\n",
       "      <td>0</td>\n",
       "      <td>8.83</td>\n",
       "      <td>0</td>\n",
       "    </tr>\n",
       "    <tr>\n",
       "      <th>456</th>\n",
       "      <td>1</td>\n",
       "      <td>Internet</td>\n",
       "      <td>RoundTrip</td>\n",
       "      <td>30</td>\n",
       "      <td>85</td>\n",
       "      <td>15</td>\n",
       "      <td>5</td>\n",
       "      <td>AKLKUL</td>\n",
       "      <td>Malaysia</td>\n",
       "      <td>1</td>\n",
       "      <td>0</td>\n",
       "      <td>0</td>\n",
       "      <td>8.83</td>\n",
       "      <td>1</td>\n",
       "    </tr>\n",
       "    <tr>\n",
       "      <th>513</th>\n",
       "      <td>3</td>\n",
       "      <td>Internet</td>\n",
       "      <td>RoundTrip</td>\n",
       "      <td>109</td>\n",
       "      <td>20</td>\n",
       "      <td>4</td>\n",
       "      <td>2</td>\n",
       "      <td>AKLKUL</td>\n",
       "      <td>Singapore</td>\n",
       "      <td>1</td>\n",
       "      <td>0</td>\n",
       "      <td>1</td>\n",
       "      <td>8.83</td>\n",
       "      <td>0</td>\n",
       "    </tr>\n",
       "    <tr>\n",
       "      <th>...</th>\n",
       "      <td>...</td>\n",
       "      <td>...</td>\n",
       "      <td>...</td>\n",
       "      <td>...</td>\n",
       "      <td>...</td>\n",
       "      <td>...</td>\n",
       "      <td>...</td>\n",
       "      <td>...</td>\n",
       "      <td>...</td>\n",
       "      <td>...</td>\n",
       "      <td>...</td>\n",
       "      <td>...</td>\n",
       "      <td>...</td>\n",
       "      <td>...</td>\n",
       "    </tr>\n",
       "    <tr>\n",
       "      <th>49852</th>\n",
       "      <td>2</td>\n",
       "      <td>Internet</td>\n",
       "      <td>RoundTrip</td>\n",
       "      <td>204</td>\n",
       "      <td>6</td>\n",
       "      <td>14</td>\n",
       "      <td>2</td>\n",
       "      <td>PENTPE</td>\n",
       "      <td>Malaysia</td>\n",
       "      <td>1</td>\n",
       "      <td>0</td>\n",
       "      <td>0</td>\n",
       "      <td>4.67</td>\n",
       "      <td>0</td>\n",
       "    </tr>\n",
       "    <tr>\n",
       "      <th>49902</th>\n",
       "      <td>1</td>\n",
       "      <td>Mobile</td>\n",
       "      <td>RoundTrip</td>\n",
       "      <td>106</td>\n",
       "      <td>6</td>\n",
       "      <td>11</td>\n",
       "      <td>5</td>\n",
       "      <td>PENTPE</td>\n",
       "      <td>Taiwan</td>\n",
       "      <td>1</td>\n",
       "      <td>0</td>\n",
       "      <td>0</td>\n",
       "      <td>4.67</td>\n",
       "      <td>0</td>\n",
       "    </tr>\n",
       "    <tr>\n",
       "      <th>49934</th>\n",
       "      <td>1</td>\n",
       "      <td>Internet</td>\n",
       "      <td>RoundTrip</td>\n",
       "      <td>2</td>\n",
       "      <td>6</td>\n",
       "      <td>3</td>\n",
       "      <td>4</td>\n",
       "      <td>PENTPE</td>\n",
       "      <td>Malaysia</td>\n",
       "      <td>0</td>\n",
       "      <td>0</td>\n",
       "      <td>1</td>\n",
       "      <td>4.67</td>\n",
       "      <td>0</td>\n",
       "    </tr>\n",
       "    <tr>\n",
       "      <th>49944</th>\n",
       "      <td>1</td>\n",
       "      <td>Internet</td>\n",
       "      <td>RoundTrip</td>\n",
       "      <td>2</td>\n",
       "      <td>6</td>\n",
       "      <td>3</td>\n",
       "      <td>4</td>\n",
       "      <td>PENTPE</td>\n",
       "      <td>Malaysia</td>\n",
       "      <td>0</td>\n",
       "      <td>0</td>\n",
       "      <td>1</td>\n",
       "      <td>4.67</td>\n",
       "      <td>0</td>\n",
       "    </tr>\n",
       "    <tr>\n",
       "      <th>49961</th>\n",
       "      <td>1</td>\n",
       "      <td>Internet</td>\n",
       "      <td>RoundTrip</td>\n",
       "      <td>30</td>\n",
       "      <td>6</td>\n",
       "      <td>7</td>\n",
       "      <td>4</td>\n",
       "      <td>PENTPE</td>\n",
       "      <td>Taiwan</td>\n",
       "      <td>0</td>\n",
       "      <td>0</td>\n",
       "      <td>0</td>\n",
       "      <td>4.67</td>\n",
       "      <td>0</td>\n",
       "    </tr>\n",
       "  </tbody>\n",
       "</table>\n",
       "<p>719 rows × 14 columns</p>\n",
       "</div>"
      ],
      "text/plain": [
       "       num_passengers sales_channel  trip_type  purchase_lead  length_of_stay  \\\n",
       "196                 5      Internet  RoundTrip            206              17   \n",
       "316                 5      Internet  RoundTrip            206              17   \n",
       "384                 5      Internet  RoundTrip            206              17   \n",
       "456                 1      Internet  RoundTrip             30              85   \n",
       "513                 3      Internet  RoundTrip            109              20   \n",
       "...               ...           ...        ...            ...             ...   \n",
       "49852               2      Internet  RoundTrip            204               6   \n",
       "49902               1        Mobile  RoundTrip            106               6   \n",
       "49934               1      Internet  RoundTrip              2               6   \n",
       "49944               1      Internet  RoundTrip              2               6   \n",
       "49961               1      Internet  RoundTrip             30               6   \n",
       "\n",
       "       flight_hour  flight_day   route booking_origin  wants_extra_baggage  \\\n",
       "196             13           7  AKLKUL       Malaysia                    1   \n",
       "316             13           7  AKLKUL       Malaysia                    1   \n",
       "384             13           7  AKLKUL       Malaysia                    1   \n",
       "456             15           5  AKLKUL       Malaysia                    1   \n",
       "513              4           2  AKLKUL      Singapore                    1   \n",
       "...            ...         ...     ...            ...                  ...   \n",
       "49852           14           2  PENTPE       Malaysia                    1   \n",
       "49902           11           5  PENTPE         Taiwan                    1   \n",
       "49934            3           4  PENTPE       Malaysia                    0   \n",
       "49944            3           4  PENTPE       Malaysia                    0   \n",
       "49961            7           4  PENTPE         Taiwan                    0   \n",
       "\n",
       "       wants_preferred_seat  wants_in_flight_meals  flight_duration  \\\n",
       "196                       0                      0             8.83   \n",
       "316                       0                      0             8.83   \n",
       "384                       0                      0             8.83   \n",
       "456                       0                      0             8.83   \n",
       "513                       0                      1             8.83   \n",
       "...                     ...                    ...              ...   \n",
       "49852                     0                      0             4.67   \n",
       "49902                     0                      0             4.67   \n",
       "49934                     0                      1             4.67   \n",
       "49944                     0                      1             4.67   \n",
       "49961                     0                      0             4.67   \n",
       "\n",
       "       booking_complete  \n",
       "196                   0  \n",
       "316                   0  \n",
       "384                   0  \n",
       "456                   1  \n",
       "513                   0  \n",
       "...                 ...  \n",
       "49852                 0  \n",
       "49902                 0  \n",
       "49934                 0  \n",
       "49944                 0  \n",
       "49961                 0  \n",
       "\n",
       "[719 rows x 14 columns]"
      ]
     },
     "execution_count": 18,
     "metadata": {},
     "output_type": "execute_result"
    }
   ],
   "source": [
    "df[df.duplicated()]"
   ]
  },
  {
   "cell_type": "code",
   "execution_count": 21,
   "id": "c13c8981",
   "metadata": {},
   "outputs": [],
   "source": [
    "df.drop_duplicates(inplace=True,ignore_index=True)"
   ]
  },
  {
   "cell_type": "code",
   "execution_count": 22,
   "id": "d5a03189",
   "metadata": {},
   "outputs": [
    {
     "data": {
      "text/html": [
       "<div>\n",
       "<style scoped>\n",
       "    .dataframe tbody tr th:only-of-type {\n",
       "        vertical-align: middle;\n",
       "    }\n",
       "\n",
       "    .dataframe tbody tr th {\n",
       "        vertical-align: top;\n",
       "    }\n",
       "\n",
       "    .dataframe thead th {\n",
       "        text-align: right;\n",
       "    }\n",
       "</style>\n",
       "<table border=\"1\" class=\"dataframe\">\n",
       "  <thead>\n",
       "    <tr style=\"text-align: right;\">\n",
       "      <th></th>\n",
       "      <th>num_passengers</th>\n",
       "      <th>sales_channel</th>\n",
       "      <th>trip_type</th>\n",
       "      <th>purchase_lead</th>\n",
       "      <th>length_of_stay</th>\n",
       "      <th>flight_hour</th>\n",
       "      <th>flight_day</th>\n",
       "      <th>route</th>\n",
       "      <th>booking_origin</th>\n",
       "      <th>wants_extra_baggage</th>\n",
       "      <th>wants_preferred_seat</th>\n",
       "      <th>wants_in_flight_meals</th>\n",
       "      <th>flight_duration</th>\n",
       "      <th>booking_complete</th>\n",
       "    </tr>\n",
       "  </thead>\n",
       "  <tbody>\n",
       "    <tr>\n",
       "      <th>0</th>\n",
       "      <td>2</td>\n",
       "      <td>Internet</td>\n",
       "      <td>RoundTrip</td>\n",
       "      <td>262</td>\n",
       "      <td>19</td>\n",
       "      <td>7</td>\n",
       "      <td>6</td>\n",
       "      <td>AKLDEL</td>\n",
       "      <td>New Zealand</td>\n",
       "      <td>1</td>\n",
       "      <td>0</td>\n",
       "      <td>0</td>\n",
       "      <td>5.52</td>\n",
       "      <td>0</td>\n",
       "    </tr>\n",
       "    <tr>\n",
       "      <th>1</th>\n",
       "      <td>1</td>\n",
       "      <td>Internet</td>\n",
       "      <td>RoundTrip</td>\n",
       "      <td>112</td>\n",
       "      <td>20</td>\n",
       "      <td>3</td>\n",
       "      <td>6</td>\n",
       "      <td>AKLDEL</td>\n",
       "      <td>New Zealand</td>\n",
       "      <td>0</td>\n",
       "      <td>0</td>\n",
       "      <td>0</td>\n",
       "      <td>5.52</td>\n",
       "      <td>0</td>\n",
       "    </tr>\n",
       "    <tr>\n",
       "      <th>2</th>\n",
       "      <td>2</td>\n",
       "      <td>Internet</td>\n",
       "      <td>RoundTrip</td>\n",
       "      <td>243</td>\n",
       "      <td>22</td>\n",
       "      <td>17</td>\n",
       "      <td>3</td>\n",
       "      <td>AKLDEL</td>\n",
       "      <td>India</td>\n",
       "      <td>1</td>\n",
       "      <td>1</td>\n",
       "      <td>0</td>\n",
       "      <td>5.52</td>\n",
       "      <td>0</td>\n",
       "    </tr>\n",
       "    <tr>\n",
       "      <th>3</th>\n",
       "      <td>1</td>\n",
       "      <td>Internet</td>\n",
       "      <td>RoundTrip</td>\n",
       "      <td>96</td>\n",
       "      <td>31</td>\n",
       "      <td>4</td>\n",
       "      <td>6</td>\n",
       "      <td>AKLDEL</td>\n",
       "      <td>New Zealand</td>\n",
       "      <td>0</td>\n",
       "      <td>0</td>\n",
       "      <td>1</td>\n",
       "      <td>5.52</td>\n",
       "      <td>0</td>\n",
       "    </tr>\n",
       "    <tr>\n",
       "      <th>4</th>\n",
       "      <td>2</td>\n",
       "      <td>Internet</td>\n",
       "      <td>RoundTrip</td>\n",
       "      <td>68</td>\n",
       "      <td>22</td>\n",
       "      <td>15</td>\n",
       "      <td>3</td>\n",
       "      <td>AKLDEL</td>\n",
       "      <td>India</td>\n",
       "      <td>1</td>\n",
       "      <td>0</td>\n",
       "      <td>1</td>\n",
       "      <td>5.52</td>\n",
       "      <td>0</td>\n",
       "    </tr>\n",
       "    <tr>\n",
       "      <th>...</th>\n",
       "      <td>...</td>\n",
       "      <td>...</td>\n",
       "      <td>...</td>\n",
       "      <td>...</td>\n",
       "      <td>...</td>\n",
       "      <td>...</td>\n",
       "      <td>...</td>\n",
       "      <td>...</td>\n",
       "      <td>...</td>\n",
       "      <td>...</td>\n",
       "      <td>...</td>\n",
       "      <td>...</td>\n",
       "      <td>...</td>\n",
       "      <td>...</td>\n",
       "    </tr>\n",
       "    <tr>\n",
       "      <th>49276</th>\n",
       "      <td>2</td>\n",
       "      <td>Internet</td>\n",
       "      <td>RoundTrip</td>\n",
       "      <td>27</td>\n",
       "      <td>6</td>\n",
       "      <td>9</td>\n",
       "      <td>6</td>\n",
       "      <td>PERPNH</td>\n",
       "      <td>Australia</td>\n",
       "      <td>1</td>\n",
       "      <td>0</td>\n",
       "      <td>1</td>\n",
       "      <td>5.62</td>\n",
       "      <td>0</td>\n",
       "    </tr>\n",
       "    <tr>\n",
       "      <th>49277</th>\n",
       "      <td>1</td>\n",
       "      <td>Internet</td>\n",
       "      <td>RoundTrip</td>\n",
       "      <td>111</td>\n",
       "      <td>6</td>\n",
       "      <td>4</td>\n",
       "      <td>7</td>\n",
       "      <td>PERPNH</td>\n",
       "      <td>Australia</td>\n",
       "      <td>0</td>\n",
       "      <td>0</td>\n",
       "      <td>0</td>\n",
       "      <td>5.62</td>\n",
       "      <td>0</td>\n",
       "    </tr>\n",
       "    <tr>\n",
       "      <th>49278</th>\n",
       "      <td>1</td>\n",
       "      <td>Internet</td>\n",
       "      <td>RoundTrip</td>\n",
       "      <td>24</td>\n",
       "      <td>6</td>\n",
       "      <td>22</td>\n",
       "      <td>6</td>\n",
       "      <td>PERPNH</td>\n",
       "      <td>Australia</td>\n",
       "      <td>0</td>\n",
       "      <td>0</td>\n",
       "      <td>1</td>\n",
       "      <td>5.62</td>\n",
       "      <td>0</td>\n",
       "    </tr>\n",
       "    <tr>\n",
       "      <th>49279</th>\n",
       "      <td>1</td>\n",
       "      <td>Internet</td>\n",
       "      <td>RoundTrip</td>\n",
       "      <td>15</td>\n",
       "      <td>6</td>\n",
       "      <td>11</td>\n",
       "      <td>1</td>\n",
       "      <td>PERPNH</td>\n",
       "      <td>Australia</td>\n",
       "      <td>1</td>\n",
       "      <td>0</td>\n",
       "      <td>1</td>\n",
       "      <td>5.62</td>\n",
       "      <td>0</td>\n",
       "    </tr>\n",
       "    <tr>\n",
       "      <th>49280</th>\n",
       "      <td>1</td>\n",
       "      <td>Internet</td>\n",
       "      <td>RoundTrip</td>\n",
       "      <td>19</td>\n",
       "      <td>6</td>\n",
       "      <td>10</td>\n",
       "      <td>4</td>\n",
       "      <td>PERPNH</td>\n",
       "      <td>Australia</td>\n",
       "      <td>0</td>\n",
       "      <td>1</td>\n",
       "      <td>0</td>\n",
       "      <td>5.62</td>\n",
       "      <td>0</td>\n",
       "    </tr>\n",
       "  </tbody>\n",
       "</table>\n",
       "<p>49281 rows × 14 columns</p>\n",
       "</div>"
      ],
      "text/plain": [
       "       num_passengers sales_channel  trip_type  purchase_lead  length_of_stay  \\\n",
       "0                   2      Internet  RoundTrip            262              19   \n",
       "1                   1      Internet  RoundTrip            112              20   \n",
       "2                   2      Internet  RoundTrip            243              22   \n",
       "3                   1      Internet  RoundTrip             96              31   \n",
       "4                   2      Internet  RoundTrip             68              22   \n",
       "...               ...           ...        ...            ...             ...   \n",
       "49276               2      Internet  RoundTrip             27               6   \n",
       "49277               1      Internet  RoundTrip            111               6   \n",
       "49278               1      Internet  RoundTrip             24               6   \n",
       "49279               1      Internet  RoundTrip             15               6   \n",
       "49280               1      Internet  RoundTrip             19               6   \n",
       "\n",
       "       flight_hour  flight_day   route booking_origin  wants_extra_baggage  \\\n",
       "0                7           6  AKLDEL    New Zealand                    1   \n",
       "1                3           6  AKLDEL    New Zealand                    0   \n",
       "2               17           3  AKLDEL          India                    1   \n",
       "3                4           6  AKLDEL    New Zealand                    0   \n",
       "4               15           3  AKLDEL          India                    1   \n",
       "...            ...         ...     ...            ...                  ...   \n",
       "49276            9           6  PERPNH      Australia                    1   \n",
       "49277            4           7  PERPNH      Australia                    0   \n",
       "49278           22           6  PERPNH      Australia                    0   \n",
       "49279           11           1  PERPNH      Australia                    1   \n",
       "49280           10           4  PERPNH      Australia                    0   \n",
       "\n",
       "       wants_preferred_seat  wants_in_flight_meals  flight_duration  \\\n",
       "0                         0                      0             5.52   \n",
       "1                         0                      0             5.52   \n",
       "2                         1                      0             5.52   \n",
       "3                         0                      1             5.52   \n",
       "4                         0                      1             5.52   \n",
       "...                     ...                    ...              ...   \n",
       "49276                     0                      1             5.62   \n",
       "49277                     0                      0             5.62   \n",
       "49278                     0                      1             5.62   \n",
       "49279                     0                      1             5.62   \n",
       "49280                     1                      0             5.62   \n",
       "\n",
       "       booking_complete  \n",
       "0                     0  \n",
       "1                     0  \n",
       "2                     0  \n",
       "3                     0  \n",
       "4                     0  \n",
       "...                 ...  \n",
       "49276                 0  \n",
       "49277                 0  \n",
       "49278                 0  \n",
       "49279                 0  \n",
       "49280                 0  \n",
       "\n",
       "[49281 rows x 14 columns]"
      ]
     },
     "execution_count": 22,
     "metadata": {},
     "output_type": "execute_result"
    }
   ],
   "source": [
    "df"
   ]
  },
  {
   "cell_type": "code",
   "execution_count": 23,
   "id": "5b79db73",
   "metadata": {},
   "outputs": [
    {
     "data": {
      "text/plain": [
       "num_passengers           0\n",
       "sales_channel            0\n",
       "trip_type                0\n",
       "purchase_lead            0\n",
       "length_of_stay           0\n",
       "flight_hour              0\n",
       "flight_day               0\n",
       "route                    0\n",
       "booking_origin           0\n",
       "wants_extra_baggage      0\n",
       "wants_preferred_seat     0\n",
       "wants_in_flight_meals    0\n",
       "flight_duration          0\n",
       "booking_complete         0\n",
       "dtype: int64"
      ]
     },
     "execution_count": 23,
     "metadata": {},
     "output_type": "execute_result"
    }
   ],
   "source": [
    "df.isnull().sum()"
   ]
  },
  {
   "cell_type": "code",
   "execution_count": 37,
   "id": "6d7655f4",
   "metadata": {},
   "outputs": [
    {
     "name": "stdout",
     "output_type": "stream",
     "text": [
      "Features: num_passengers\n",
      "[2 1 3 4 6 5 7 9 8] \n",
      "\n",
      "num_passengers -------> 9\n",
      "Features: sales_channel\n",
      "['Internet' 'Mobile'] \n",
      "\n",
      "sales_channel -------> 2\n",
      "Features: trip_type\n",
      "['RoundTrip' 'CircleTrip' 'OneWay'] \n",
      "\n",
      "trip_type -------> 3\n",
      "Features: purchase_lead\n",
      "[262 112 243  96  68   3 201 238  80 378 185   8 265 245 192 259  19  67\n",
      " 351 228  21  23  25  16  66  51  37 101   7   5  33  20  56  13  71 346\n",
      "   9  65 221 107  14  77  24  47  22  11  35 272 250 161 128 190 311  27\n",
      " 314 102   2  26  32  57 198 120  69 281 282  15  31 316 232 156 196 283\n",
      "  34  63   6 227 181 138 134  85  93 118  90 168 127  18 153 186 263 172\n",
      " 230  42  81 140 285 179 341 173 180 366 229 174  82  75 163 105 276 110\n",
      "  83 154  55  45  54 193  10 166  97 239 182  99  53  28 384  70 126 142\n",
      "  87  86 313  41  91 206 197 268 157 145 241 139  59 396 280  79 380 132\n",
      " 121 419  58 115 236 225 116 191 275 417 159  92 106 218 295  12 305 235\n",
      " 332 125 204 310 368 169 214 155 325 130 189 226 122  88 211 188 129 149\n",
      "  38 194 183  40  95 135 222  64 162 150  73 133  89 151 349  29 123 298\n",
      " 195  84 410 216 111 109   0 210 326 240  39 294 304 160 363 231  62   1\n",
      " 178 253  30 199 171 269 301  72 224 246  44  94 113  49 254 296  74 343\n",
      " 347  61 352 255 267 213 237 244 119  50 293 207 252  60 358 292 203 321\n",
      "  46 286 393  17 337 408  52 329 164 249 414 377 402 131  43  98 411 291\n",
      " 318 136 152 287 279 277 331 359 146 336 219 258 403 320 212  36 177 144\n",
      " 348 215 242 266 233 114 317  76 345 108 290 386 330 394 170 209 175 389\n",
      " 302 372  48 124 208 205 143 100  78 373 641 256 165   4 423 412 274 158\n",
      " 388 335 322 288 406 278 333 141 270 104 247 382 361 271 248 284 200 137\n",
      " 167 103 364 234 308 383 370 409 300 339 444 391 117 344 147 338 202 307\n",
      " 261 334 260 187 309 223 303 471 306 273 390 251 369 379 176 257 184 398\n",
      " 148 355 357 424 387 401 220 217 577 415 397 340 416 376 323 289 297 374\n",
      " 557 324 264 407 360 350 426 420 353 299 328 362 375 385 315 614 463 381\n",
      " 342 429 425 584 433 319 392 399 365 404 422 395 312 327 428 516 354 367\n",
      " 405 356 453 460 427 371 413 446 573 564 536 704 514 400 440 548 436 439\n",
      " 437 421 418 431 553 445 442 430 495 432 633 434 625 477 443 605 435 483\n",
      " 606 867] \n",
      "\n",
      "purchase_lead -------> 470\n",
      "Features: length_of_stay\n",
      "[ 19  20  22  31  48  33  30  25  43  24  17  34  18  37  29 155  88  27\n",
      "  21  28  47  35  82  26  90  23  84  61  40  96  69  89  58  56 110 165\n",
      " 111  38 207  91   1 274  44  57 106  68  87  51 196  77  41 278 108 180\n",
      "  72  32  62  45  50  59 125 124  46  55  60  36  65 208 204  83  42  85\n",
      "  64  86  54 238 275  39  95  70  93  49 107 121 203 188  78 209 126  80\n",
      " 200 255  63  92 118  79 181  76  94 305 149 177 183 162  71 109  52 140\n",
      "  66 184 152  53 291 329  75 130 142 175  73 304 186 116 101 223 415 312\n",
      " 143  81 144 134 135 117 120 138 153  74 261 103 104 112 157 266  98 318\n",
      "  67 273 105 148 102 119 122 603 465 409 128 233  99 113 147 127  97 170\n",
      " 156 160 182 115 158   0 357 173 228 205 178 123 352 141 139 129 301 176\n",
      " 332 217 358 285 163 359 348 392 179 132 431 236 353 137 146 174 224 164\n",
      " 306 252 171 347 185 150 361 189 343 151 133 230 215 256 365 168 335 349\n",
      " 355 331 199 254 100 321 245 350 326 351 356 360 262 364 229 193 194 131\n",
      " 114 191 235 239 225 190 166 280 136 330 169 345 362 240 145 159 267 363\n",
      " 192 161 322 315 289 244 327 308 610 172 260 778 167 226 379 334 313 342\n",
      " 284 237 532 513 201 206 221 242 369 290 297 388 282 218 286 271 259 510\n",
      " 272 292 197 277 268 435 276 220 338 303 222 187 247 198 195 214 337 241\n",
      " 311 279 316 287 478 399 210 341 250 202 573 216 211 773 339 294 154 517\n",
      " 462 577 231 293 213 263   2   3   4   5   6] \n",
      "\n",
      "length_of_stay -------> 335\n",
      "Features: flight_hour\n",
      "[ 7  3 17  4 15 20  6 14 12  2 19 10  8 23  9 13 11  0  1  5 16 18 22 21] \n",
      "\n",
      "flight_hour -------> 24\n",
      "Features: flight_day\n",
      "[6 3 4 1 7 2 5] \n",
      "\n",
      "flight_day -------> 7\n",
      "Features: route\n",
      "['AKLDEL' 'AKLHGH' 'AKLHND' 'AKLICN' 'AKLKIX' 'AKLKTM' 'AKLKUL' 'AKLMRU'\n",
      " 'AKLPEK' 'AKLPVG' 'AKLTPE' 'AORICN' 'AORKIX' 'AORKTM' 'AORMEL' 'BBIMEL'\n",
      " 'BBIOOL' 'BBIPER' 'BBISYD' 'BDOCTS' 'BDOCTU' 'BDOHGH' 'BDOICN' 'BDOIKA'\n",
      " 'BDOKIX' 'BDOMEL' 'BDOOOL' 'BDOPEK' 'BDOPER' 'BDOPUS' 'BDOPVG' 'BDOSYD'\n",
      " 'BDOTPE' 'BDOXIY' 'BKICKG' 'BKICTS' 'BKICTU' 'BKIHND' 'BKIICN' 'BKIKIX'\n",
      " 'BKIKTM' 'BKIMEL' 'BKIMRU' 'BKIOOL' 'BKIPEK' 'BKIPER' 'BKIPUS' 'BKIPVG'\n",
      " 'BKISYD' 'BKIXIY' 'BLRICN' 'BLRMEL' 'BLRPER' 'BLRSYD' 'BOMMEL' 'BOMOOL'\n",
      " 'BOMPER' 'BOMSYD' 'BTJJED' 'BTUICN' 'BTUPER' 'BTUSYD' 'BTUWUH' 'BWNCKG'\n",
      " 'BWNDEL' 'BWNHGH' 'BWNIKA' 'BWNKTM' 'BWNMEL' 'BWNOOL' 'BWNPER' 'BWNSYD'\n",
      " 'BWNTPE' 'CANDEL' 'CANIKA' 'CANMEL' 'CANMRU' 'CANOOL' 'CANPER' 'CANSYD'\n",
      " 'CCUMEL' 'CCUMRU' 'CCUOOL' 'CCUPER' 'CCUSYD' 'CCUTPE' 'CEBMEL' 'CEBOOL'\n",
      " 'CEBPER' 'CEBSYD' 'CGKCKG' 'CGKCTS' 'CGKCTU' 'CGKDEL' 'CGKHGH' 'CGKHND'\n",
      " 'CGKICN' 'CGKIKA' 'CGKJED' 'CGKKIX' 'CGKKTM' 'CGKMEL' 'CGKMRU' 'CGKOOL'\n",
      " 'CGKPEK' 'CGKPER' 'CGKPUS' 'CGKPVG' 'CGKSYD' 'CGKTPE' 'CGKWUH' 'CGKXIY'\n",
      " 'CKGCOK' 'CKGDPS' 'CKGJHB' 'CKGKCH' 'CKGLOP' 'CKGMAA' 'CKGMEL' 'CKGMYY'\n",
      " 'CKGOOL' 'CKGPEN' 'CKGPER' 'CKGPNH' 'CKGSBW' 'CKGSIN' 'CKGSUB' 'CKGSYD'\n",
      " 'CKGTGG' 'CKGTRZ' 'CKGTWU' 'CMBCTS' 'CMBCTU' 'CMBHGH' 'CMBHND' 'CMBICN'\n",
      " 'CMBKIX' 'CMBMEL' 'CMBMRU' 'CMBOOL' 'CMBPEK' 'CMBPER' 'CMBPVG' 'CMBSYD'\n",
      " 'CMBWUH' 'CNXHND' 'CNXICN' 'CNXKIX' 'CNXMEL' 'CNXOOL' 'CNXPEK' 'CNXPER'\n",
      " 'CNXPVG' 'CNXSYD' 'CNXTPE' 'COKCTU' 'COKHGH' 'COKICN' 'COKKIX' 'COKMEL'\n",
      " 'COKOOL' 'COKPER' 'COKPUS' 'COKSYD' 'COKTPE' 'COKWUH' 'CRKMEL' 'CRKOOL'\n",
      " 'CRKSYD' 'CSXPER' 'CTSDMK' 'CTSDPS' 'CTSHKT' 'CTSJHB' 'CTSKBR' 'CTSKCH'\n",
      " 'CTSKNO' 'CTSLGK' 'CTSMEL' 'CTSMYY' 'CTSOOL' 'CTSPEN' 'CTSPER' 'CTSSGN'\n",
      " 'CTSSIN' 'CTSSUB' 'CTSSYD' 'CTUDPS' 'CTUHKT' 'CTUIKA' 'CTUJHB' 'CTUKBV'\n",
      " 'CTUKCH' 'CTUKNO' 'CTUMAA' 'CTUMEL' 'CTUMRU' 'CTUMYY' 'CTUOOL' 'CTUPEN'\n",
      " 'CTUPER' 'CTUSBW' 'CTUSIN' 'CTUSUB' 'CTUSYD' 'CTUTGG' 'CTUTRZ' 'CTUTWU'\n",
      " 'CXRMEL' 'DACHGH' 'DACHND' 'DACICN' 'DACKIX' 'DACMEL' 'DACOOL' 'DACPER'\n",
      " 'DACSYD' 'DACTPE' 'DADMEL' 'DADOOL' 'DADSYD' 'DELDMK' 'DELDPS' 'DELHKG'\n",
      " 'DELHKT' 'DELHND' 'DELJHB' 'DELJOG' 'DELKBV' 'DELKCH' 'DELKIX' 'DELKNO'\n",
      " 'DELLGK' 'DELMEL' 'DELMFM' 'DELMNL' 'DELMRU' 'DELMYY' 'DELOOL' 'DELPEN'\n",
      " 'DELPER' 'DELPNH' 'DELSBW' 'DELSGN' 'DELSIN' 'DELSUB' 'DELSYD' 'DELSZX'\n",
      " 'DMKHGH' 'DMKHND' 'DMKICN' 'DMKIKA' 'DMKKIX' 'DMKKTM' 'DMKMEL' 'DMKMRU'\n",
      " 'DMKOOL' 'DMKPEK' 'DMKPER' 'DMKPUS' 'DMKPVG' 'DMKSYD' 'DMKTPE' 'DPSHGH'\n",
      " 'DPSHND' 'DPSICN' 'DPSIKA' 'DPSKIX' 'DPSKTM' 'DPSMEL' 'DPSMRU' 'DPSOOL'\n",
      " 'DPSPEK' 'DPSPUS' 'DPSPVG' 'DPSSYD' 'DPSTPE' 'DPSXIY' 'GOIKUL' 'GOIMEL'\n",
      " 'GOIOOL' 'GOIPER' 'GOISYD' 'HANKTM' 'HANMEL' 'HANOOL' 'HANPER' 'HANSYD'\n",
      " 'HDYHGH' 'HDYKTM' 'HDYMEL' 'HDYOOL' 'HDYPEK' 'HDYPER' 'HDYPVG' 'HDYSYD'\n",
      " 'HDYTPE' 'HGHHKT' 'HGHJHB' 'HGHJOG' 'HGHKBR' 'HGHKBV' 'HGHKCH' 'HGHKNO'\n",
      " 'HGHLGK' 'HGHLOP' 'HGHMAA' 'HGHMEL' 'HGHMYY' 'HGHOOL' 'HGHPEN' 'HGHPER'\n",
      " 'HGHSBW' 'HGHSUB' 'HGHSYD' 'HGHTRZ' 'HKGIKA' 'HKGKTM' 'HKGMEL' 'HKGMRU'\n",
      " 'HKGOOL' 'HKGPER' 'HKGSYD' 'HKTHND' 'HKTICN' 'HKTKIX' 'HKTKTM' 'HKTMEL'\n",
      " 'HKTMRU' 'HKTOOL' 'HKTPEK' 'HKTPER' 'HKTPUS' 'HKTPVG' 'HKTSYD' 'HKTTPE'\n",
      " 'HKTXIY' 'HNDIKA' 'HNDJOG' 'HNDKBR' 'HNDKBV' 'HNDKCH' 'HNDKNO' 'HNDKTM'\n",
      " 'HNDLGK' 'HNDLOP' 'HNDMAA' 'HNDMEL' 'HNDMLE' 'HNDOOL' 'HNDPEN' 'HNDPER'\n",
      " 'HNDPNH' 'HNDREP' 'HNDRGN' 'HNDSBW' 'HNDSGN' 'HNDSIN' 'HNDSUB' 'HNDSYD'\n",
      " 'HNDTRZ' 'HYDMEL' 'HYDOOL' 'HYDPER' 'HYDSYD' 'HYDWUH' 'ICNIKA' 'ICNJED'\n",
      " 'ICNJHB' 'ICNKBR' 'ICNKBV' 'ICNKCH' 'ICNKNO' 'ICNKTM' 'ICNLGK' 'ICNMAA'\n",
      " 'ICNMEL' 'ICNMLE' 'ICNMYY' 'ICNOOL' 'ICNPEN' 'ICNPER' 'ICNREP' 'ICNRGN'\n",
      " 'ICNSBW' 'ICNSDK' 'ICNSGN' 'ICNSIN' 'ICNSUB' 'ICNSYD' 'ICNTRZ' 'ICNVTZ'\n",
      " 'IKAKCH' 'IKAKIX' 'IKALOP' 'IKAMEL' 'IKAMFM' 'IKAMNL' 'IKAOOL' 'IKAPEK'\n",
      " 'IKAPEN' 'IKAPER' 'IKAPUS' 'IKAPVG' 'IKASGN' 'IKASIN' 'IKASUB' 'IKASYD'\n",
      " 'IKATPE' 'JEDJOG' 'JEDKNO' 'JEDMEL' 'JEDMNL' 'JEDPDG' 'JEDPEN' 'JEDSUB'\n",
      " 'JHBKIX' 'JHBKTM' 'JHBMEL' 'JHBMRU' 'JHBPEK' 'JHBPUS' 'JHBPVG' 'JHBSYD'\n",
      " 'JHBTPE' 'JHBWUH' 'JHBXIY' 'JOGKIX' 'JOGKTM' 'JOGMEL' 'JOGOOL' 'JOGPER'\n",
      " 'JOGPVG' 'JOGSYD' 'JOGTPE' 'KBRKIX' 'KBRKTM' 'KBRMEL' 'KBROOL' 'KBRPEK'\n",
      " 'KBRPER' 'KBRPVG' 'KBRSYD' 'KBRTPE' 'KBVKTM' 'KBVMEL' 'KBVOOL' 'KBVPEK'\n",
      " 'KBVPER' 'KBVPVG' 'KBVSYD' 'KCHKIX' 'KCHKTM' 'KCHMEL' 'KCHMRU' 'KCHOOL'\n",
      " 'KCHPEK' 'KCHPER' 'KCHPUS' 'KCHPVG' 'KCHSYD' 'KCHTPE' 'KCHXIY' 'KHHMEL'\n",
      " 'KHHOOL' 'KHHPER' 'KHHSYD' 'KIXKNO' 'KIXKTM' 'KIXLGK' 'KIXLOP' 'KIXMAA'\n",
      " 'KIXMEL' 'KIXMLE' 'KIXMYY' 'KIXOOL' 'KIXPEN' 'KIXPER' 'KIXPNH' 'KIXREP'\n",
      " 'KIXRGN' 'KIXSBW' 'KIXSGN' 'KIXSIN' 'KIXSUB' 'KIXSYD' 'KIXTGG' 'KIXTRZ'\n",
      " 'KLOMEL' 'KLOOOL' 'KNOKTM' 'KNOMEL' 'KNOOOL' 'KNOPEK' 'KNOPER' 'KNOPUS'\n",
      " 'KNOPVG' 'KNOSYD' 'KNOTPE' 'KNOXIY' 'KOSMEL' 'KOSOOL' 'KOSPEK' 'KOSSYD'\n",
      " 'KTMMEL' 'KTMMFM' 'KTMMYY' 'KTMPEN' 'KTMPER' 'KTMREP' 'KTMSGN' 'KTMSIN'\n",
      " 'KTMSUB' 'KTMSYD' 'KTMTGG' 'KTMTPE' 'KTMURT' 'KWLPER' 'LBUPER' 'LGKMEL'\n",
      " 'LGKOOL' 'LGKPER' 'LGKPUS' 'LGKPVG' 'LGKSYD' 'LGKTPE' 'LOPOOL' 'LOPPEK'\n",
      " 'LOPPVG' 'LOPSYD' 'LOPTPE' 'LOPXIY' 'LPQMEL' 'LPQOOL' 'LPQPER' 'LPQTPE'\n",
      " 'MAAMEL' 'MAAMRU' 'MAAOOL' 'MAAPER' 'MAAPVG' 'MAASYD' 'MAATPE' 'MAAWUH'\n",
      " 'MELMFM' 'MELMLE' 'MELMNL' 'MELMRU' 'MELMYY' 'MELPEK' 'MELPEN' 'MELPNH'\n",
      " 'MELPUS' 'MELPVG' 'MELREP' 'MELRGN' 'MELSBW' 'MELSGN' 'MELSIN' 'MELSUB'\n",
      " 'MELSWA' 'MELSZX' 'MELTGG' 'MELTPE' 'MELTRZ' 'MELTWU' 'MELURT' 'MELUTP'\n",
      " 'MELVTE' 'MELVTZ' 'MELWUH' 'MELXIY' 'MFMOOL' 'MFMPER' 'MFMSYD' 'MLEPEK'\n",
      " 'MLEPER' 'MLESYD' 'MNLMRU' 'MNLOOL' 'MNLPER' 'MNLSYD' 'MRUOOL' 'MRUPEK'\n",
      " 'MRUPEN' 'MRUPER' 'MRUPVG' 'MRUSGN' 'MRUSIN' 'MRUSUB' 'MRUSYD' 'MRUSZX'\n",
      " 'MYYOOL' 'MYYPER' 'MYYPUS' 'MYYSYD' 'MYYXIY' 'NRTSYD' 'OOLPEK' 'OOLPEN'\n",
      " 'OOLPNH' 'OOLPUS' 'OOLPVG' 'OOLREP' 'OOLRGN' 'OOLSBW' 'OOLSDK' 'OOLSGN'\n",
      " 'OOLSIN' 'OOLSUB' 'OOLSZX' 'OOLTGG' 'OOLTPE' 'OOLTRZ' 'OOLTWU' 'OOLURT'\n",
      " 'OOLUTP' 'OOLVTE' 'OOLWUH' 'OOLXIY' 'PEKPEN' 'PEKPER' 'PEKREP' 'PEKRGN'\n",
      " 'PEKSBW' 'PEKSIN' 'PEKSUB' 'PEKSYD' 'PEKTGG' 'PEKTRZ' 'PEKTWU' 'PENPER'\n",
      " 'PENPUS' 'PENPVG' 'PENSYD' 'PENTPE' 'PENWUH' 'PENXIY' 'PERPNH' 'PERPUS'\n",
      " 'PERPVG' 'PERREP' 'PERRGN' 'PERSBW' 'PERSDK' 'PERSGN' 'PERSIN' 'PERSWA'\n",
      " 'PERSZX' 'PERTGG' 'PERTPE' 'PERTRZ' 'PERTWU' 'PERUTP' 'PERVTE' 'PERVTZ'\n",
      " 'PERWUH' 'PERXIY' 'PNHSYD' 'PNHTPE' 'PNKTPE' 'PUSRGN' 'PUSSBW' 'PUSSGN'\n",
      " 'PUSSIN' 'PUSSUB' 'PUSSYD' 'PUSTRZ' 'PVGREP' 'PVGRGN' 'PVGSIN' 'PVGSUB'\n",
      " 'PVGSYD' 'PVGTGG' 'PVGTWU' 'PVGURT' 'REPSYD' 'REPTPE' 'RGNSYD' 'RGNTPE'\n",
      " 'SBWSYD' 'SBWTPE' 'SBWXIY' 'SDKSYD' 'SGNSYD' 'SGNXIY' 'SINSYD' 'SINTPE'\n",
      " 'SINWUH' 'SINXIY' 'SRGTPE' 'SUBSYD' 'SUBTPE' 'SUBXIY' 'SYDSZX' 'SYDTPE'\n",
      " 'SYDTRZ' 'SYDTWU' 'SYDVTE' 'SYDVTZ' 'SYDXIY' 'TGGTPE' 'TGGXIY' 'TPETRZ'\n",
      " 'TPEVTE' 'TRZWUH' 'TRZXIY' 'TWUXIY' 'HGHSGN' 'ICNTGG' 'JHBOOL' 'KBRXIY'\n",
      " 'KBVTPE' 'KIXTWU' 'LBUTPE' 'PVGSGN' 'SBWWUH' 'DELREP' 'DPSWUH' 'HKGJED'\n",
      " 'KBVKIX' 'KBVPUS' 'KIXLPQ' 'LGKPEK' 'LGKXIY' 'LOPPER' 'PEKSGN' 'PERSUB'\n",
      " 'TPETWU' 'BDOWUH' 'BKIDEL' 'CKGSGN' 'CTUKBR' 'CTULGK' 'CTUREP' 'DACMRU'\n",
      " 'DACPEK' 'DELRGN' 'HDYXIY' 'HGHTGG' 'HKTWUH' 'ICNVTE' 'KBRPUS' 'KCHWUH'\n",
      " 'KLOSYD' 'KNOWUH' 'MLETPE' 'SDKTPE' 'SUBWUH' 'TWUWUH' 'AORPUS' 'BTUCKG'\n",
      " 'BWNWUH' 'CKGKNO' 'CKGLGK' 'CNXDEL' 'CNXPUS' 'CTSJOG' 'CTSSBW' 'CTUDMK'\n",
      " 'CTULOP' 'DELKBR' 'DELURT' 'HDYKIX' 'HGHSIN' 'HGHTWU' 'HYDMRU' 'IKASZX'\n",
      " 'KBVWUH' 'KBVXIY' 'KIXLBU' 'LGKWUH' 'MELNRT' 'MLEOOL' 'MRUTPE' 'TPEURT'\n",
      " 'URTXIY' 'AORPER' 'CKGHKT' 'CKGMRU' 'CNXXIY' 'COKCTS' 'CSXMRU' 'CSXSYD'\n",
      " 'CTUMLE' 'CTUSGN' 'CTUSRG' 'CTUURT' 'DACPUS' 'HGHMRU' 'HKTIKA' 'HKTJED'\n",
      " 'ICNMRU' 'JEDMFM' 'KBRWUH' 'KIXMRU' 'KTMTWU' 'MLEPVG' 'MRUXIY'] \n",
      "\n",
      "route -------> 799\n",
      "Features: booking_origin\n",
      "['New Zealand' 'India' 'United Kingdom' 'China' 'South Korea' 'Japan'\n",
      " 'Malaysia' 'Singapore' 'Switzerland' 'Germany' 'Indonesia'\n",
      " 'Czech Republic' 'Vietnam' 'Thailand' 'Spain' 'Romania' 'Ireland' 'Italy'\n",
      " 'Slovakia' 'United Arab Emirates' 'Tonga' 'Réunion' '(not set)'\n",
      " 'Saudi Arabia' 'Netherlands' 'Qatar' 'Hong Kong' 'Philippines'\n",
      " 'Sri Lanka' 'France' 'Croatia' 'United States' 'Laos' 'Hungary'\n",
      " 'Portugal' 'Cyprus' 'Australia' 'Cambodia' 'Poland' 'Belgium' 'Oman'\n",
      " 'Bangladesh' 'Kazakhstan' 'Brazil' 'Turkey' 'Kenya' 'Taiwan' 'Brunei'\n",
      " 'Chile' 'Bulgaria' 'Ukraine' 'Denmark' 'Colombia' 'Iran' 'Bahrain'\n",
      " 'Solomon Islands' 'Slovenia' 'Mauritius' 'Nepal' 'Russia' 'Kuwait'\n",
      " 'Mexico' 'Sweden' 'Austria' 'Lebanon' 'Jordan' 'Greece' 'Mongolia'\n",
      " 'Canada' 'Tanzania' 'Peru' 'Timor-Leste' 'Argentina' 'New Caledonia'\n",
      " 'Macau' 'Myanmar (Burma)' 'Norway' 'Panama' 'Bhutan' 'Norfolk Island'\n",
      " 'Finland' 'Nicaragua' 'Maldives' 'Egypt' 'Israel' 'Tunisia'\n",
      " 'South Africa' 'Papua New Guinea' 'Paraguay' 'Estonia' 'Seychelles'\n",
      " 'Afghanistan' 'Guam' 'Czechia' 'Malta' 'Vanuatu' 'Belarus' 'Pakistan'\n",
      " 'Iraq' 'Ghana' 'Gibraltar' 'Guatemala' 'Algeria' 'Svalbard & Jan Mayen'] \n",
      "\n",
      "booking_origin -------> 104\n",
      "Features: wants_extra_baggage\n",
      "[1 0] \n",
      "\n",
      "wants_extra_baggage -------> 2\n",
      "Features: wants_preferred_seat\n",
      "[0 1] \n",
      "\n",
      "wants_preferred_seat -------> 2\n",
      "Features: wants_in_flight_meals\n",
      "[0 1] \n",
      "\n",
      "wants_in_flight_meals -------> 2\n",
      "Features: flight_duration\n",
      "[5.52 5.07 7.57 6.62 7.   4.75 8.83 7.42 6.42 5.33 4.67 5.62 8.58 8.67\n",
      " 4.72 8.15 6.33 5.   4.83 9.5  5.13] \n",
      "\n",
      "flight_duration -------> 21\n",
      "Features: booking_complete\n",
      "[0 1] \n",
      "\n",
      "booking_complete -------> 2\n"
     ]
    }
   ],
   "source": [
    "for i in df.columns:\n",
    "    print('Features:',i)\n",
    "    print(df[i].unique(),'\\n')\n",
    "    print(i,'------->',df[i].nunique())"
   ]
  },
  {
   "cell_type": "markdown",
   "id": "49d4418e",
   "metadata": {},
   "source": [
    "## 4) Data Visualization\n",
    "\n",
    "4.1) Histograms (univariate analysis)\n",
    "Histograms are one of the most common graphs used to display numeric data.\n",
    "distribution of the data --- whether the data is normally distributed or if it's skewed (to the left or right)"
   ]
  },
  {
   "cell_type": "code",
   "execution_count": 38,
   "id": "e9748e1d",
   "metadata": {},
   "outputs": [
    {
     "data": {
      "image/png": "[encoded data removed]",
      "text/plain": [
       "<Figure size 1000x1000 with 12 Axes>"
      ]
     },
     "metadata": {},
     "output_type": "display_data"
    }
   ],
   "source": [
    "# Histogram of each feature\n",
    "df.hist(bins=10,figsize=(10,10))\n",
    "plt.show()"
   ]
  },
  {
   "cell_type": "markdown",
   "id": "f9bdbb07",
   "metadata": {},
   "source": [
    "4.2) Scatter plot (bivariate analysis)\n",
    "\n",
    "A Scatterplot is a type of graph which 'plots' the values along two axes, like age and height. Scatterplots are useful for many reasons. like correlation matrices, It allows you to quickly understand a relationship between two variables."
   ]
  },
  {
   "cell_type": "markdown",
   "id": "d31b6834",
   "metadata": {},
   "source": [
    "## Target variable[num_passengers]"
   ]
  },
  {
   "cell_type": "code",
   "execution_count": 44,
   "id": "e1189465",
   "metadata": {},
   "outputs": [
    {
     "data": {
      "text/plain": [
       "count    49281.000000\n",
       "mean         1.590187\n",
       "std          1.016538\n",
       "min          1.000000\n",
       "25%          1.000000\n",
       "50%          1.000000\n",
       "75%          2.000000\n",
       "max          9.000000\n",
       "Name: num_passengers, dtype: float64"
      ]
     },
     "execution_count": 44,
     "metadata": {},
     "output_type": "execute_result"
    }
   ],
   "source": [
    "df.num_passengers.describe()"
   ]
  },
  {
   "cell_type": "code",
   "execution_count": 45,
   "id": "3bc93878",
   "metadata": {},
   "outputs": [
    {
     "data": {
      "text/plain": [
       "(array([30879., 12669.,  2882.,  1767.,     0.,   544.,   281.,   107.,\n",
       "           88.,    64.]),\n",
       " array([1. , 1.8, 2.6, 3.4, 4.2, 5. , 5.8, 6.6, 7.4, 8.2, 9. ]),\n",
       " <BarContainer object of 10 artists>)"
      ]
     },
     "execution_count": 45,
     "metadata": {},
     "output_type": "execute_result"
    },
    {
     "data": {
      "image/png": "[encoded data removed]",
      "text/plain": [
       "<Figure size 640x480 with 1 Axes>"
      ]
     },
     "metadata": {},
     "output_type": "display_data"
    }
   ],
   "source": [
    "plt.hist(df.num_passengers)"
   ]
  },
  {
   "cell_type": "code",
   "execution_count": 46,
   "id": "b8029c46",
   "metadata": {},
   "outputs": [
    {
     "data": {
      "image/png": "[encoded data removed]",
      "text/plain": [
       "<Figure size 640x480 with 1 Axes>"
      ]
     },
     "metadata": {},
     "output_type": "display_data"
    }
   ],
   "source": [
    "# box plot of Kilometer_per_liter\n",
    "sns.boxplot(x= df.num_passengers,)\n",
    "plt.xlabel('Milage-Kilometer_per_liter')\n",
    "plt.title('Box plot of Kilometer_per_liter')\n",
    "plt.show()"
   ]
  },
  {
   "cell_type": "markdown",
   "id": "459c5d48",
   "metadata": {},
   "source": [
    "### Now will check for outliers (If we have extreme outliers we need to drop the outliers)"
   ]
  },
  {
   "cell_type": "code",
   "execution_count": 48,
   "id": "fea734b3",
   "metadata": {},
   "outputs": [
    {
     "name": "stdout",
     "output_type": "stream",
     "text": [
      "kpl_IQR = 1.0\n",
      "kpl_uplim = 3.5\n"
     ]
    }
   ],
   "source": [
    "# How many outliers are present\n",
    "# checking the outliers\n",
    "\n",
    "# Now we are going to perform IQR [Inter Quartile Range] using IQR = Q3 - Q1\n",
    "kpl_IQR=df.num_passengers.describe()['75%']-df.num_passengers.describe()['25%']\n",
    "print('kpl_IQR =',kpl_IQR)\n",
    "\n",
    "# Now will try to create upper end using UE= Q3+1.5*IQR\n",
    "kpl_uplim=df.num_passengers.describe()['75%']+1.5*kpl_IQR\n",
    "print('kpl_uplim =',kpl_uplim)"
   ]
  },
  {
   "cell_type": "code",
   "execution_count": 49,
   "id": "4fec1a91",
   "metadata": {},
   "outputs": [
    {
     "data": {
      "text/plain": [
       "2851"
      ]
     },
     "execution_count": 49,
     "metadata": {},
     "output_type": "execute_result"
    }
   ],
   "source": [
    "len(df.num_passengers[df.num_passengers>kpl_uplim])"
   ]
  },
  {
   "cell_type": "markdown",
   "id": "eceefed4",
   "metadata": {},
   "source": [
    "### Sales_channel"
   ]
  },
  {
   "cell_type": "code",
   "execution_count": 56,
   "id": "a95f8316",
   "metadata": {},
   "outputs": [
    {
     "data": {
      "text/plain": [
       "sales_channel\n",
       "Internet    43917\n",
       "Mobile       5364\n",
       "Name: count, dtype: int64"
      ]
     },
     "execution_count": 56,
     "metadata": {},
     "output_type": "execute_result"
    }
   ],
   "source": [
    "df.sales_channel.value_counts()"
   ]
  },
  {
   "cell_type": "code",
   "execution_count": 75,
   "id": "0bf00325",
   "metadata": {},
   "outputs": [
    {
     "data": {
      "image/png": "[encoded data removed]",
      "text/plain": [
       "<Figure size 640x480 with 1 Axes>"
      ]
     },
     "metadata": {},
     "output_type": "display_data"
    }
   ],
   "source": [
    "#booking complition by sales channel \n",
    "\n",
    "df.groupby('sales_channel')['booking_complete'].sum().plot(kind='bar',color=['#8f1402','#014d4e','#4b006e'])\n",
    "plt.ylabel('Booking Complition')\n",
    "plt.xticks(rotation=0)\n",
    "plt.title('Booking Complition by sales channel')\n",
    "plt.show()"
   ]
  },
  {
   "cell_type": "code",
   "execution_count": 65,
   "id": "aff60ba3",
   "metadata": {},
   "outputs": [
    {
     "data": {
      "text/plain": [
       "sales_channel\n",
       "Internet    6802\n",
       "Mobile       589\n",
       "Name: booking_complete, dtype: int64"
      ]
     },
     "execution_count": 65,
     "metadata": {},
     "output_type": "execute_result"
    }
   ],
   "source": [
    "# If you want to print the numbers you can print\n",
    "df.groupby('sales_channel')['booking_complete'].sum()"
   ]
  },
  {
   "cell_type": "markdown",
   "id": "393e24b0",
   "metadata": {},
   "source": [
    "###### The above graph represents that the number of booking complition is done by internet and counts total value of 6802."
   ]
  },
  {
   "cell_type": "markdown",
   "id": "ca646277",
   "metadata": {},
   "source": [
    "### Now will perform some statistical test to check Origin is a good predictor or not"
   ]
  },
  {
   "cell_type": "markdown",
   "id": "3770498b",
   "metadata": {},
   "source": [
    "##### Importing the Libraries for Statistical test"
   ]
  },
  {
   "cell_type": "code",
   "execution_count": 66,
   "id": "063a1225",
   "metadata": {},
   "outputs": [],
   "source": [
    "# Statistical test\n",
    "\n",
    "# t-test\n",
    "from scipy.stats import ttest_ind\n",
    "# Anova test\n",
    "import statsmodels.api as sm\n",
    "from statsmodels.formula.api import ols\n",
    "# Tukey HSD\n",
    "from statsmodels.stats.multicomp import pairwise_tukeyhsd\n",
    "# chi-square\n",
    "from scipy.stats import (chi2,chi2_contingency)\n",
    "import statsmodels.formula.api as smf"
   ]
  },
  {
   "cell_type": "markdown",
   "id": "ed5383fd",
   "metadata": {},
   "source": [
    "### Anova Test"
   ]
  },
  {
   "cell_type": "code",
   "execution_count": 68,
   "id": "af2b5d55",
   "metadata": {},
   "outputs": [
    {
     "data": {
      "text/html": [
       "<div>\n",
       "<style scoped>\n",
       "    .dataframe tbody tr th:only-of-type {\n",
       "        vertical-align: middle;\n",
       "    }\n",
       "\n",
       "    .dataframe tbody tr th {\n",
       "        vertical-align: top;\n",
       "    }\n",
       "\n",
       "    .dataframe thead th {\n",
       "        text-align: right;\n",
       "    }\n",
       "</style>\n",
       "<table border=\"1\" class=\"dataframe\">\n",
       "  <thead>\n",
       "    <tr style=\"text-align: right;\">\n",
       "      <th></th>\n",
       "      <th>df</th>\n",
       "      <th>sum_sq</th>\n",
       "      <th>mean_sq</th>\n",
       "      <th>F</th>\n",
       "      <th>PR(&gt;F)</th>\n",
       "    </tr>\n",
       "  </thead>\n",
       "  <tbody>\n",
       "    <tr>\n",
       "      <th>sales_channel</th>\n",
       "      <td>1.0</td>\n",
       "      <td>9.712950</td>\n",
       "      <td>9.712950</td>\n",
       "      <td>76.30464</td>\n",
       "      <td>2.505851e-18</td>\n",
       "    </tr>\n",
       "    <tr>\n",
       "      <th>Residual</th>\n",
       "      <td>49279.0</td>\n",
       "      <td>6272.809523</td>\n",
       "      <td>0.127292</td>\n",
       "      <td>NaN</td>\n",
       "      <td>NaN</td>\n",
       "    </tr>\n",
       "  </tbody>\n",
       "</table>\n",
       "</div>"
      ],
      "text/plain": [
       "                    df       sum_sq   mean_sq         F        PR(>F)\n",
       "sales_channel      1.0     9.712950  9.712950  76.30464  2.505851e-18\n",
       "Residual       49279.0  6272.809523  0.127292       NaN           NaN"
      ]
     },
     "execution_count": 68,
     "metadata": {},
     "output_type": "execute_result"
    }
   ],
   "source": [
    "model_sales_channel = ols('booking_complete ~sales_channel ',data = df).fit()\n",
    "anova_sales_channel = sm.stats.anova_lm(model_sales_channel)\n",
    "anova_sales_channel"
   ]
  },
  {
   "cell_type": "markdown",
   "id": "a8b953d0",
   "metadata": {},
   "source": [
    "sales_channel is a good predictor (If the p_value is less than level of significance that is 0.05 then it is a good predictor)\n",
    "\n",
    "If the P-value is smaller than the level of significance (0.05), then it suggests that the observed relationship between the feature and the target variable is statistically significant."
   ]
  },
  {
   "cell_type": "markdown",
   "id": "a250829e",
   "metadata": {},
   "source": [
    "# Trip type (its a categorical variable)"
   ]
  },
  {
   "cell_type": "code",
   "execution_count": 69,
   "id": "137f6c32",
   "metadata": {},
   "outputs": [
    {
     "data": {
      "text/plain": [
       "trip_type\n",
       "RoundTrip     48779\n",
       "OneWay          386\n",
       "CircleTrip      116\n",
       "Name: count, dtype: int64"
      ]
     },
     "execution_count": 69,
     "metadata": {},
     "output_type": "execute_result"
    }
   ],
   "source": [
    "df.trip_type.value_counts()"
   ]
  },
  {
   "cell_type": "code",
   "execution_count": 74,
   "id": "7cab6b44",
   "metadata": {},
   "outputs": [
    {
     "data": {
      "image/png": "[encoded data removed]",
      "text/plain": [
       "<Figure size 640x480 with 1 Axes>"
      ]
     },
     "metadata": {},
     "output_type": "display_data"
    }
   ],
   "source": [
    "#booking complition by sales channel \n",
    "\n",
    "df.groupby('trip_type')['booking_complete'].sum().plot(kind='bar',color=['#8f1402','#014d4e','#4b006e'])\n",
    "plt.ylabel('Booking Complition')\n",
    "plt.xticks(rotation=0)\n",
    "plt.title('Booking Complition by trip_type')\n",
    "plt.show()"
   ]
  },
  {
   "cell_type": "code",
   "execution_count": 72,
   "id": "1a4fb2cf",
   "metadata": {},
   "outputs": [
    {
     "data": {
      "text/plain": [
       "trip_type\n",
       "CircleTrip       5\n",
       "OneWay          20\n",
       "RoundTrip     7366\n",
       "Name: booking_complete, dtype: int64"
      ]
     },
     "execution_count": 72,
     "metadata": {},
     "output_type": "execute_result"
    }
   ],
   "source": [
    "# If you want to print the numbers you can print\n",
    "df.groupby('trip_type')['booking_complete'].sum()"
   ]
  },
  {
   "cell_type": "markdown",
   "id": "d9d20c34",
   "metadata": {},
   "source": [
    "##### The above graph represents that the booking complition of the flight tickets is maximum done for the Round trip and then One way and the least is done for the circle trip"
   ]
  },
  {
   "cell_type": "markdown",
   "id": "00ab32a9",
   "metadata": {},
   "source": [
    "A “round trip” refers to a journey where you travel to a specific destination and then return to your starting point, usually following the same route."
   ]
  },
  {
   "cell_type": "markdown",
   "id": "f023a8a3",
   "metadata": {},
   "source": [
    "## anova Test"
   ]
  },
  {
   "cell_type": "code",
   "execution_count": 73,
   "id": "d8acfd0c",
   "metadata": {},
   "outputs": [
    {
     "data": {
      "text/html": [
       "<div>\n",
       "<style scoped>\n",
       "    .dataframe tbody tr th:only-of-type {\n",
       "        vertical-align: middle;\n",
       "    }\n",
       "\n",
       "    .dataframe tbody tr th {\n",
       "        vertical-align: top;\n",
       "    }\n",
       "\n",
       "    .dataframe thead th {\n",
       "        text-align: right;\n",
       "    }\n",
       "</style>\n",
       "<table border=\"1\" class=\"dataframe\">\n",
       "  <thead>\n",
       "    <tr style=\"text-align: right;\">\n",
       "      <th></th>\n",
       "      <th>df</th>\n",
       "      <th>sum_sq</th>\n",
       "      <th>mean_sq</th>\n",
       "      <th>F</th>\n",
       "      <th>PR(&gt;F)</th>\n",
       "    </tr>\n",
       "  </thead>\n",
       "  <tbody>\n",
       "    <tr>\n",
       "      <th>trip_type</th>\n",
       "      <td>2.0</td>\n",
       "      <td>5.096284</td>\n",
       "      <td>2.548142</td>\n",
       "      <td>20.002996</td>\n",
       "      <td>2.071732e-09</td>\n",
       "    </tr>\n",
       "    <tr>\n",
       "      <th>Residual</th>\n",
       "      <td>49278.0</td>\n",
       "      <td>6277.426190</td>\n",
       "      <td>0.127388</td>\n",
       "      <td>NaN</td>\n",
       "      <td>NaN</td>\n",
       "    </tr>\n",
       "  </tbody>\n",
       "</table>\n",
       "</div>"
      ],
      "text/plain": [
       "                df       sum_sq   mean_sq          F        PR(>F)\n",
       "trip_type      2.0     5.096284  2.548142  20.002996  2.071732e-09\n",
       "Residual   49278.0  6277.426190  0.127388        NaN           NaN"
      ]
     },
     "execution_count": 73,
     "metadata": {},
     "output_type": "execute_result"
    }
   ],
   "source": [
    "model_trip_type = ols('booking_complete ~trip_type ',data = df).fit()\n",
    "anova_trip_type = sm.stats.anova_lm(model_trip_type)\n",
    "anova_trip_type"
   ]
  },
  {
   "cell_type": "markdown",
   "id": "8824d643",
   "metadata": {},
   "source": [
    "trip_type is a good predictor (If the p_value is less than level of significance that is 0.05 then it is a good predictor)\n",
    "\n",
    "If the P-value is smaller than the level of significance (0.05), then it suggests that the observed relationship between the feature and the target variable is statistically significant"
   ]
  },
  {
   "cell_type": "markdown",
   "id": "46bb66c2",
   "metadata": {},
   "source": [
    "### purchase_lead is a continuous variable"
   ]
  },
  {
   "cell_type": "code",
   "execution_count": 79,
   "id": "5e4338ad",
   "metadata": {},
   "outputs": [
    {
     "data": {
      "text/plain": [
       "count    49281.000000\n",
       "mean        84.723281\n",
       "std         90.410229\n",
       "min          0.000000\n",
       "25%         21.000000\n",
       "50%         51.000000\n",
       "75%        115.000000\n",
       "max        867.000000\n",
       "Name: purchase_lead, dtype: float64"
      ]
     },
     "execution_count": 79,
     "metadata": {},
     "output_type": "execute_result"
    }
   ],
   "source": [
    "df['purchase_lead'].describe()"
   ]
  },
  {
   "cell_type": "code",
   "execution_count": 81,
   "id": "27da4592",
   "metadata": {},
   "outputs": [
    {
     "data": {
      "image/png": "[encoded data removed]",
      "text/plain": [
       "<Figure size 640x480 with 1 Axes>"
      ]
     },
     "metadata": {},
     "output_type": "display_data"
    }
   ],
   "source": [
    "# histogram\n",
    "plt.hist(df.purchase_lead,color='red')\n",
    "plt.xlabel('purchase_lead')\n",
    "plt.ylabel('No of Booking completion')\n",
    "plt.title('Histogram of purchase_lead')\n",
    "plt.show()"
   ]
  },
  {
   "cell_type": "code",
   "execution_count": 82,
   "id": "fbc94e3c",
   "metadata": {},
   "outputs": [
    {
     "data": {
      "text/plain": [
       "<Axes: xlabel='purchase_lead'>"
      ]
     },
     "execution_count": 82,
     "metadata": {},
     "output_type": "execute_result"
    },
    {
     "data": {
      "image/png": "[encoded data removed]",
      "text/plain": [
       "<Figure size 640x480 with 1 Axes>"
      ]
     },
     "metadata": {},
     "output_type": "display_data"
    }
   ],
   "source": [
    "sns.boxplot(x = df.purchase_lead)"
   ]
  },
  {
   "cell_type": "code",
   "execution_count": 84,
   "id": "96591127",
   "metadata": {},
   "outputs": [
    {
     "data": {
      "image/png": "[encoded data removed]",
      "text/plain": [
       "<Figure size 640x480 with 1 Axes>"
      ]
     },
     "metadata": {},
     "output_type": "display_data"
    }
   ],
   "source": [
    "# scatterplot of booking_complete vs purchase_lead\n",
    "sns.scatterplot(x='purchase_lead',y='booking_complete',data=df,hue='booking_complete')\n",
    "plt.title('booking_complete vs purchase_lead ')\n",
    "plt.show()"
   ]
  },
  {
   "cell_type": "code",
   "execution_count": 85,
   "id": "42fdd677",
   "metadata": {},
   "outputs": [
    {
     "data": {
      "text/plain": [
       "array([[ 1.        , -0.02213189],\n",
       "       [-0.02213189,  1.        ]])"
      ]
     },
     "execution_count": 85,
     "metadata": {},
     "output_type": "execute_result"
    }
   ],
   "source": [
    "# will check the correlation coefficient between purchase lead and booking complition\n",
    "np.corrcoef(df.purchase_lead,df.booking_complete)"
   ]
  },
  {
   "cell_type": "markdown",
   "id": "b18b1305",
   "metadata": {},
   "source": [
    "#### The plot illustrates a negative correlation between purchase_lead and booking complition, indicating that as displacement increases, mileage tends to decrease\n",
    "It is 2.21% negatively correlated"
   ]
  },
  {
   "cell_type": "markdown",
   "id": "7f031274",
   "metadata": {},
   "source": [
    "###### In this case, -0.02213189 is very close to 0, suggesting that there is almost no linear relationship between the two variables."
   ]
  },
  {
   "cell_type": "code",
   "execution_count": 87,
   "id": "36090ccf",
   "metadata": {},
   "outputs": [
    {
     "data": {
      "text/html": [
       "<div>\n",
       "<style scoped>\n",
       "    .dataframe tbody tr th:only-of-type {\n",
       "        vertical-align: middle;\n",
       "    }\n",
       "\n",
       "    .dataframe tbody tr th {\n",
       "        vertical-align: top;\n",
       "    }\n",
       "\n",
       "    .dataframe thead th {\n",
       "        text-align: right;\n",
       "    }\n",
       "</style>\n",
       "<table border=\"1\" class=\"dataframe\">\n",
       "  <thead>\n",
       "    <tr style=\"text-align: right;\">\n",
       "      <th></th>\n",
       "      <th>num_passengers</th>\n",
       "      <th>sales_channel</th>\n",
       "      <th>trip_type</th>\n",
       "      <th>purchase_lead</th>\n",
       "      <th>length_of_stay</th>\n",
       "      <th>flight_hour</th>\n",
       "      <th>flight_day</th>\n",
       "      <th>route</th>\n",
       "      <th>booking_origin</th>\n",
       "      <th>wants_extra_baggage</th>\n",
       "      <th>wants_preferred_seat</th>\n",
       "      <th>wants_in_flight_meals</th>\n",
       "      <th>flight_duration</th>\n",
       "      <th>booking_complete</th>\n",
       "    </tr>\n",
       "  </thead>\n",
       "  <tbody>\n",
       "    <tr>\n",
       "      <th>0</th>\n",
       "      <td>2</td>\n",
       "      <td>Internet</td>\n",
       "      <td>RoundTrip</td>\n",
       "      <td>262</td>\n",
       "      <td>19</td>\n",
       "      <td>7</td>\n",
       "      <td>6</td>\n",
       "      <td>AKLDEL</td>\n",
       "      <td>New Zealand</td>\n",
       "      <td>1</td>\n",
       "      <td>0</td>\n",
       "      <td>0</td>\n",
       "      <td>5.52</td>\n",
       "      <td>0</td>\n",
       "    </tr>\n",
       "    <tr>\n",
       "      <th>1</th>\n",
       "      <td>1</td>\n",
       "      <td>Internet</td>\n",
       "      <td>RoundTrip</td>\n",
       "      <td>112</td>\n",
       "      <td>20</td>\n",
       "      <td>3</td>\n",
       "      <td>6</td>\n",
       "      <td>AKLDEL</td>\n",
       "      <td>New Zealand</td>\n",
       "      <td>0</td>\n",
       "      <td>0</td>\n",
       "      <td>0</td>\n",
       "      <td>5.52</td>\n",
       "      <td>0</td>\n",
       "    </tr>\n",
       "    <tr>\n",
       "      <th>2</th>\n",
       "      <td>2</td>\n",
       "      <td>Internet</td>\n",
       "      <td>RoundTrip</td>\n",
       "      <td>243</td>\n",
       "      <td>22</td>\n",
       "      <td>17</td>\n",
       "      <td>3</td>\n",
       "      <td>AKLDEL</td>\n",
       "      <td>India</td>\n",
       "      <td>1</td>\n",
       "      <td>1</td>\n",
       "      <td>0</td>\n",
       "      <td>5.52</td>\n",
       "      <td>0</td>\n",
       "    </tr>\n",
       "    <tr>\n",
       "      <th>3</th>\n",
       "      <td>1</td>\n",
       "      <td>Internet</td>\n",
       "      <td>RoundTrip</td>\n",
       "      <td>96</td>\n",
       "      <td>31</td>\n",
       "      <td>4</td>\n",
       "      <td>6</td>\n",
       "      <td>AKLDEL</td>\n",
       "      <td>New Zealand</td>\n",
       "      <td>0</td>\n",
       "      <td>0</td>\n",
       "      <td>1</td>\n",
       "      <td>5.52</td>\n",
       "      <td>0</td>\n",
       "    </tr>\n",
       "    <tr>\n",
       "      <th>4</th>\n",
       "      <td>2</td>\n",
       "      <td>Internet</td>\n",
       "      <td>RoundTrip</td>\n",
       "      <td>68</td>\n",
       "      <td>22</td>\n",
       "      <td>15</td>\n",
       "      <td>3</td>\n",
       "      <td>AKLDEL</td>\n",
       "      <td>India</td>\n",
       "      <td>1</td>\n",
       "      <td>0</td>\n",
       "      <td>1</td>\n",
       "      <td>5.52</td>\n",
       "      <td>0</td>\n",
       "    </tr>\n",
       "    <tr>\n",
       "      <th>...</th>\n",
       "      <td>...</td>\n",
       "      <td>...</td>\n",
       "      <td>...</td>\n",
       "      <td>...</td>\n",
       "      <td>...</td>\n",
       "      <td>...</td>\n",
       "      <td>...</td>\n",
       "      <td>...</td>\n",
       "      <td>...</td>\n",
       "      <td>...</td>\n",
       "      <td>...</td>\n",
       "      <td>...</td>\n",
       "      <td>...</td>\n",
       "      <td>...</td>\n",
       "    </tr>\n",
       "    <tr>\n",
       "      <th>49276</th>\n",
       "      <td>2</td>\n",
       "      <td>Internet</td>\n",
       "      <td>RoundTrip</td>\n",
       "      <td>27</td>\n",
       "      <td>6</td>\n",
       "      <td>9</td>\n",
       "      <td>6</td>\n",
       "      <td>PERPNH</td>\n",
       "      <td>Australia</td>\n",
       "      <td>1</td>\n",
       "      <td>0</td>\n",
       "      <td>1</td>\n",
       "      <td>5.62</td>\n",
       "      <td>0</td>\n",
       "    </tr>\n",
       "    <tr>\n",
       "      <th>49277</th>\n",
       "      <td>1</td>\n",
       "      <td>Internet</td>\n",
       "      <td>RoundTrip</td>\n",
       "      <td>111</td>\n",
       "      <td>6</td>\n",
       "      <td>4</td>\n",
       "      <td>7</td>\n",
       "      <td>PERPNH</td>\n",
       "      <td>Australia</td>\n",
       "      <td>0</td>\n",
       "      <td>0</td>\n",
       "      <td>0</td>\n",
       "      <td>5.62</td>\n",
       "      <td>0</td>\n",
       "    </tr>\n",
       "    <tr>\n",
       "      <th>49278</th>\n",
       "      <td>1</td>\n",
       "      <td>Internet</td>\n",
       "      <td>RoundTrip</td>\n",
       "      <td>24</td>\n",
       "      <td>6</td>\n",
       "      <td>22</td>\n",
       "      <td>6</td>\n",
       "      <td>PERPNH</td>\n",
       "      <td>Australia</td>\n",
       "      <td>0</td>\n",
       "      <td>0</td>\n",
       "      <td>1</td>\n",
       "      <td>5.62</td>\n",
       "      <td>0</td>\n",
       "    </tr>\n",
       "    <tr>\n",
       "      <th>49279</th>\n",
       "      <td>1</td>\n",
       "      <td>Internet</td>\n",
       "      <td>RoundTrip</td>\n",
       "      <td>15</td>\n",
       "      <td>6</td>\n",
       "      <td>11</td>\n",
       "      <td>1</td>\n",
       "      <td>PERPNH</td>\n",
       "      <td>Australia</td>\n",
       "      <td>1</td>\n",
       "      <td>0</td>\n",
       "      <td>1</td>\n",
       "      <td>5.62</td>\n",
       "      <td>0</td>\n",
       "    </tr>\n",
       "    <tr>\n",
       "      <th>49280</th>\n",
       "      <td>1</td>\n",
       "      <td>Internet</td>\n",
       "      <td>RoundTrip</td>\n",
       "      <td>19</td>\n",
       "      <td>6</td>\n",
       "      <td>10</td>\n",
       "      <td>4</td>\n",
       "      <td>PERPNH</td>\n",
       "      <td>Australia</td>\n",
       "      <td>0</td>\n",
       "      <td>1</td>\n",
       "      <td>0</td>\n",
       "      <td>5.62</td>\n",
       "      <td>0</td>\n",
       "    </tr>\n",
       "  </tbody>\n",
       "</table>\n",
       "<p>49281 rows × 14 columns</p>\n",
       "</div>"
      ],
      "text/plain": [
       "       num_passengers sales_channel  trip_type  purchase_lead  length_of_stay  \\\n",
       "0                   2      Internet  RoundTrip            262              19   \n",
       "1                   1      Internet  RoundTrip            112              20   \n",
       "2                   2      Internet  RoundTrip            243              22   \n",
       "3                   1      Internet  RoundTrip             96              31   \n",
       "4                   2      Internet  RoundTrip             68              22   \n",
       "...               ...           ...        ...            ...             ...   \n",
       "49276               2      Internet  RoundTrip             27               6   \n",
       "49277               1      Internet  RoundTrip            111               6   \n",
       "49278               1      Internet  RoundTrip             24               6   \n",
       "49279               1      Internet  RoundTrip             15               6   \n",
       "49280               1      Internet  RoundTrip             19               6   \n",
       "\n",
       "       flight_hour  flight_day   route booking_origin  wants_extra_baggage  \\\n",
       "0                7           6  AKLDEL    New Zealand                    1   \n",
       "1                3           6  AKLDEL    New Zealand                    0   \n",
       "2               17           3  AKLDEL          India                    1   \n",
       "3                4           6  AKLDEL    New Zealand                    0   \n",
       "4               15           3  AKLDEL          India                    1   \n",
       "...            ...         ...     ...            ...                  ...   \n",
       "49276            9           6  PERPNH      Australia                    1   \n",
       "49277            4           7  PERPNH      Australia                    0   \n",
       "49278           22           6  PERPNH      Australia                    0   \n",
       "49279           11           1  PERPNH      Australia                    1   \n",
       "49280           10           4  PERPNH      Australia                    0   \n",
       "\n",
       "       wants_preferred_seat  wants_in_flight_meals  flight_duration  \\\n",
       "0                         0                      0             5.52   \n",
       "1                         0                      0             5.52   \n",
       "2                         1                      0             5.52   \n",
       "3                         0                      1             5.52   \n",
       "4                         0                      1             5.52   \n",
       "...                     ...                    ...              ...   \n",
       "49276                     0                      1             5.62   \n",
       "49277                     0                      0             5.62   \n",
       "49278                     0                      1             5.62   \n",
       "49279                     0                      1             5.62   \n",
       "49280                     1                      0             5.62   \n",
       "\n",
       "       booking_complete  \n",
       "0                     0  \n",
       "1                     0  \n",
       "2                     0  \n",
       "3                     0  \n",
       "4                     0  \n",
       "...                 ...  \n",
       "49276                 0  \n",
       "49277                 0  \n",
       "49278                 0  \n",
       "49279                 0  \n",
       "49280                 0  \n",
       "\n",
       "[49281 rows x 14 columns]"
      ]
     },
     "execution_count": 87,
     "metadata": {},
     "output_type": "execute_result"
    }
   ],
   "source": [
    "df"
   ]
  },
  {
   "cell_type": "markdown",
   "id": "7d7dcfa1",
   "metadata": {},
   "source": [
    "### length_of_stay is a continuous variable"
   ]
  },
  {
   "cell_type": "code",
   "execution_count": 88,
   "id": "5c5ca567",
   "metadata": {},
   "outputs": [
    {
     "data": {
      "text/plain": [
       "count    49281.000000\n",
       "mean        23.053976\n",
       "std         33.832149\n",
       "min          0.000000\n",
       "25%          5.000000\n",
       "50%         17.000000\n",
       "75%         28.000000\n",
       "max        778.000000\n",
       "Name: length_of_stay, dtype: float64"
      ]
     },
     "execution_count": 88,
     "metadata": {},
     "output_type": "execute_result"
    }
   ],
   "source": [
    "df.length_of_stay.describe()"
   ]
  },
  {
   "cell_type": "code",
   "execution_count": 162,
   "id": "5dd410b0",
   "metadata": {},
   "outputs": [
    {
     "data": {
      "image/png": "[encoded data removed]",
      "text/plain": [
       "<Figure size 640x480 with 1 Axes>"
      ]
     },
     "metadata": {},
     "output_type": "display_data"
    }
   ],
   "source": [
    "# histogram\n",
    "plt.hist(df.length_of_stay,color='#8f1402')\n",
    "plt.xlabel('length_of_stay')\n",
    "plt.ylabel('No of Booking completion')\n",
    "plt.title('Histogram of length_of_stay')\n",
    "plt.show()"
   ]
  },
  {
   "cell_type": "code",
   "execution_count": 90,
   "id": "77cbcb70",
   "metadata": {},
   "outputs": [
    {
     "data": {
      "text/plain": [
       "<Axes: xlabel='length_of_stay'>"
      ]
     },
     "execution_count": 90,
     "metadata": {},
     "output_type": "execute_result"
    },
    {
     "data": {
      "image/png": "[encoded data removed]",
      "text/plain": [
       "<Figure size 640x480 with 1 Axes>"
      ]
     },
     "metadata": {},
     "output_type": "display_data"
    }
   ],
   "source": [
    "sns.boxplot(x = df.length_of_stay)"
   ]
  },
  {
   "cell_type": "code",
   "execution_count": 92,
   "id": "f15f8337",
   "metadata": {},
   "outputs": [
    {
     "name": "stdout",
     "output_type": "stream",
     "text": [
      "hp_IQR = 23.0\n",
      "hp_uplim = 62.5\n"
     ]
    },
    {
     "data": {
      "text/plain": [
       "3748"
      ]
     },
     "execution_count": 92,
     "metadata": {},
     "output_type": "execute_result"
    }
   ],
   "source": [
    "# checking the outliers\n",
    "hp_IQR=df.length_of_stay.describe()['75%']-df.length_of_stay.describe()['25%']\n",
    "print('hp_IQR =',hp_IQR)\n",
    "hp_uplim=df.length_of_stay.describe()['75%']+1.5*hp_IQR\n",
    "print('hp_uplim =',hp_uplim)\n",
    "len(df.length_of_stay[df.length_of_stay>hp_uplim]) "
   ]
  },
  {
   "cell_type": "code",
   "execution_count": 91,
   "id": "53e9b3ec",
   "metadata": {},
   "outputs": [
    {
     "data": {
      "image/png": "[encoded data removed]",
      "text/plain": [
       "<Figure size 640x480 with 1 Axes>"
      ]
     },
     "metadata": {},
     "output_type": "display_data"
    }
   ],
   "source": [
    "# scatterplot of booking_complete vs length_of_stay\n",
    "sns.scatterplot(x='length_of_stay',y='booking_complete',data=df,hue='booking_complete')\n",
    "plt.title('booking_complete vs length_of_stay ')\n",
    "plt.show()"
   ]
  },
  {
   "cell_type": "code",
   "execution_count": 93,
   "id": "6be7658c",
   "metadata": {},
   "outputs": [
    {
     "data": {
      "text/plain": [
       "array([[ 1.       , -0.0420799],\n",
       "       [-0.0420799,  1.       ]])"
      ]
     },
     "execution_count": 93,
     "metadata": {},
     "output_type": "execute_result"
    }
   ],
   "source": [
    "# will check the correlation coefficient between length of stay and booking complition\n",
    "np.corrcoef(df.length_of_stay,df.booking_complete)"
   ]
  },
  {
   "cell_type": "markdown",
   "id": "767fab18",
   "metadata": {},
   "source": [
    "#### The plot illustrates a negative correlation between length of stay and booking complition, indicating that as displacement increases, mileage tends to decrease\n",
    "It is 4.2% negatively correlated"
   ]
  },
  {
   "cell_type": "markdown",
   "id": "738dd8b0",
   "metadata": {},
   "source": [
    "In this case, -0.0420799 is close to 0, suggesting that there is almost no linear relationship between the two variables."
   ]
  },
  {
   "cell_type": "markdown",
   "id": "84cd3186",
   "metadata": {},
   "source": [
    "### flight_hour is a continuous variable"
   ]
  },
  {
   "cell_type": "code",
   "execution_count": 95,
   "id": "1ad74a0c",
   "metadata": {},
   "outputs": [
    {
     "data": {
      "text/plain": [
       "count    49281.000000\n",
       "mean         9.070676\n",
       "std          5.413099\n",
       "min          0.000000\n",
       "25%          5.000000\n",
       "50%          9.000000\n",
       "75%         13.000000\n",
       "max         23.000000\n",
       "Name: flight_hour, dtype: float64"
      ]
     },
     "execution_count": 95,
     "metadata": {},
     "output_type": "execute_result"
    }
   ],
   "source": [
    "df.flight_hour.describe()"
   ]
  },
  {
   "cell_type": "code",
   "execution_count": 163,
   "id": "944bb9a7",
   "metadata": {},
   "outputs": [
    {
     "data": {
      "image/png": "[encoded data removed]",
      "text/plain": [
       "<Figure size 640x480 with 1 Axes>"
      ]
     },
     "metadata": {},
     "output_type": "display_data"
    }
   ],
   "source": [
    "# histogram\n",
    "plt.hist(df.flight_hour,color='#014d4e')\n",
    "plt.xlabel('flight_hour')\n",
    "plt.ylabel('No of Booking completion')\n",
    "plt.title('Histogram of flight_hour')\n",
    "plt.show()"
   ]
  },
  {
   "cell_type": "code",
   "execution_count": 97,
   "id": "3bb53eed",
   "metadata": {},
   "outputs": [
    {
     "data": {
      "text/plain": [
       "<Axes: xlabel='flight_hour'>"
      ]
     },
     "execution_count": 97,
     "metadata": {},
     "output_type": "execute_result"
    },
    {
     "data": {
      "image/png": "[encoded data removed]",
      "text/plain": [
       "<Figure size 640x480 with 1 Axes>"
      ]
     },
     "metadata": {},
     "output_type": "display_data"
    }
   ],
   "source": [
    "sns.boxplot(x = df.flight_hour)"
   ]
  },
  {
   "cell_type": "markdown",
   "id": "6667ada3",
   "metadata": {},
   "source": [
    "Here we can see that this feature doesn't has any outlier"
   ]
  },
  {
   "cell_type": "code",
   "execution_count": 98,
   "id": "d18f49ea",
   "metadata": {},
   "outputs": [
    {
     "name": "stdout",
     "output_type": "stream",
     "text": [
      "hp_IQR = 8.0\n",
      "hp_uplim = 25.0\n"
     ]
    },
    {
     "data": {
      "text/plain": [
       "0"
      ]
     },
     "execution_count": 98,
     "metadata": {},
     "output_type": "execute_result"
    }
   ],
   "source": [
    "# checking the outliers\n",
    "hp_IQR=df.flight_hour.describe()['75%']-df.flight_hour.describe()['25%']\n",
    "print('hp_IQR =',hp_IQR)\n",
    "hp_uplim=df.flight_hour.describe()['75%']+1.5*hp_IQR\n",
    "print('hp_uplim =',hp_uplim)\n",
    "len(df.flight_hour[df.flight_hour>hp_uplim]) "
   ]
  },
  {
   "cell_type": "code",
   "execution_count": 99,
   "id": "267e69e6",
   "metadata": {},
   "outputs": [
    {
     "data": {
      "image/png": "[encoded data removed]",
      "text/plain": [
       "<Figure size 640x480 with 1 Axes>"
      ]
     },
     "metadata": {},
     "output_type": "display_data"
    }
   ],
   "source": [
    "# scatterplot of booking_complete vs flight_hour \n",
    "sns.scatterplot(x='flight_hour',y='booking_complete',data=df,hue='booking_complete')\n",
    "plt.title('booking_complete vs flight_hour ')\n",
    "plt.show()"
   ]
  },
  {
   "cell_type": "code",
   "execution_count": 101,
   "id": "e59289e9",
   "metadata": {},
   "outputs": [
    {
     "data": {
      "text/plain": [
       "array([[1.        , 0.00670505],\n",
       "       [0.00670505, 1.        ]])"
      ]
     },
     "execution_count": 101,
     "metadata": {},
     "output_type": "execute_result"
    }
   ],
   "source": [
    "# will check the correlation coefficient between flight hour and booking complition\n",
    "np.corrcoef(df.flight_hour,df.booking_complete)"
   ]
  },
  {
   "cell_type": "markdown",
   "id": "a2876cd8",
   "metadata": {},
   "source": [
    "#### The plot illustrates a positively correlation between length of stay and booking complition, indicating that as displacement increases, mileage tends to decrease\n",
    "It is 0.6% positively correlated"
   ]
  },
  {
   "cell_type": "markdown",
   "id": "f897b2d5",
   "metadata": {},
   "source": [
    "In this case, 0.00670505 is very close to 0, suggesting that there is almost no linear relationship between the two variables."
   ]
  },
  {
   "cell_type": "markdown",
   "id": "a541f770",
   "metadata": {},
   "source": [
    "### flight day is a continuous variable"
   ]
  },
  {
   "cell_type": "code",
   "execution_count": 104,
   "id": "314461ac",
   "metadata": {},
   "outputs": [
    {
     "data": {
      "text/plain": [
       "count    49281.000000\n",
       "mean         3.813620\n",
       "std          1.991913\n",
       "min          1.000000\n",
       "25%          2.000000\n",
       "50%          4.000000\n",
       "75%          5.000000\n",
       "max          7.000000\n",
       "Name: flight_day, dtype: float64"
      ]
     },
     "execution_count": 104,
     "metadata": {},
     "output_type": "execute_result"
    }
   ],
   "source": [
    "df.flight_day.describe()"
   ]
  },
  {
   "cell_type": "code",
   "execution_count": 161,
   "id": "79f4d47a",
   "metadata": {},
   "outputs": [
    {
     "data": {
      "image/png": "[encoded data removed]",
      "text/plain": [
       "<Figure size 640x480 with 1 Axes>"
      ]
     },
     "metadata": {},
     "output_type": "display_data"
    }
   ],
   "source": [
    "# histogram\n",
    "plt.hist(df.flight_day,color='olive')\n",
    "plt.xlabel('flight_day')\n",
    "plt.ylabel('No of Booking completion')\n",
    "plt.title('Histogram of flight_day')\n",
    "plt.show()"
   ]
  },
  {
   "cell_type": "code",
   "execution_count": 106,
   "id": "9ddee09b",
   "metadata": {},
   "outputs": [
    {
     "data": {
      "text/plain": [
       "<Axes: xlabel='flight_day'>"
      ]
     },
     "execution_count": 106,
     "metadata": {},
     "output_type": "execute_result"
    },
    {
     "data": {
      "image/png": "[encoded data removed]",
      "text/plain": [
       "<Figure size 640x480 with 1 Axes>"
      ]
     },
     "metadata": {},
     "output_type": "display_data"
    }
   ],
   "source": [
    "sns.boxplot(x = df.flight_day)"
   ]
  },
  {
   "cell_type": "code",
   "execution_count": 107,
   "id": "e47ab373",
   "metadata": {},
   "outputs": [
    {
     "name": "stdout",
     "output_type": "stream",
     "text": [
      "hp_IQR = 8.0\n",
      "hp_uplim = 25.0\n"
     ]
    },
    {
     "data": {
      "text/plain": [
       "0"
      ]
     },
     "execution_count": 107,
     "metadata": {},
     "output_type": "execute_result"
    }
   ],
   "source": [
    "# checking the outliers\n",
    "hp_IQR=df.flight_hour.describe()['75%']-df.flight_hour.describe()['25%']\n",
    "print('hp_IQR =',hp_IQR)\n",
    "hp_uplim=df.flight_hour.describe()['75%']+1.5*hp_IQR\n",
    "print('hp_uplim =',hp_uplim)\n",
    "len(df.flight_hour[df.flight_hour>hp_uplim])"
   ]
  },
  {
   "cell_type": "code",
   "execution_count": 108,
   "id": "5669d12a",
   "metadata": {},
   "outputs": [
    {
     "data": {
      "text/plain": [
       "array([[ 1.        , -0.00706057],\n",
       "       [-0.00706057,  1.        ]])"
      ]
     },
     "execution_count": 108,
     "metadata": {},
     "output_type": "execute_result"
    }
   ],
   "source": [
    "# will check the correlation coefficient between flight day and booking complition\n",
    "np.corrcoef(df.flight_day,df.booking_complete)"
   ]
  },
  {
   "cell_type": "markdown",
   "id": "065d3eea",
   "metadata": {},
   "source": [
    "#### The plot illustrates a negatively correlation between length of stay and booking complition, indicating that as displacement increases, mileage tends to decrease\n",
    "It is 0.07% negatively correlated"
   ]
  },
  {
   "cell_type": "markdown",
   "id": "74d26fe9",
   "metadata": {},
   "source": [
    "In this case, -0.00706057 is very close to 0, suggesting that there is almost no linear relationship between the two variables."
   ]
  },
  {
   "cell_type": "markdown",
   "id": "915c1749",
   "metadata": {},
   "source": [
    "### Route is a categorical variable"
   ]
  },
  {
   "cell_type": "code",
   "execution_count": 110,
   "id": "da01b0e0",
   "metadata": {},
   "outputs": [
    {
     "data": {
      "text/plain": [
       "route\n",
       "AKLKUL    2620\n",
       "PENTPE     912\n",
       "MELSGN     833\n",
       "ICNSIN     793\n",
       "DMKKIX     729\n",
       "          ... \n",
       "AKLHGH       1\n",
       "JEDPDG       1\n",
       "JEDPEN       1\n",
       "DACPEK       1\n",
       "MRUXIY       1\n",
       "Name: count, Length: 799, dtype: int64"
      ]
     },
     "execution_count": 110,
     "metadata": {},
     "output_type": "execute_result"
    }
   ],
   "source": [
    "df.route.value_counts()"
   ]
  },
  {
   "cell_type": "code",
   "execution_count": 111,
   "id": "21d2b38a",
   "metadata": {},
   "outputs": [
    {
     "data": {
      "image/png": "[encoded data removed]",
      "text/plain": [
       "<Figure size 640x480 with 1 Axes>"
      ]
     },
     "metadata": {},
     "output_type": "display_data"
    }
   ],
   "source": [
    "#booking complition by route\n",
    "df.groupby('route')['booking_complete'].sum().plot(kind='bar',color=['#8f1402','#014d4e','#4b006e'])\n",
    "plt.ylabel('Booking Complition')\n",
    "plt.xticks(rotation=0)\n",
    "plt.title('Booking Complition by route')\n",
    "plt.show()"
   ]
  },
  {
   "cell_type": "code",
   "execution_count": 112,
   "id": "de7345c2",
   "metadata": {},
   "outputs": [
    {
     "data": {
      "text/plain": [
       "route\n",
       "AKLDEL    0\n",
       "AKLHGH    0\n",
       "AKLHND    0\n",
       "AKLICN    0\n",
       "AKLKIX    0\n",
       "         ..\n",
       "TRZWUH    0\n",
       "TRZXIY    0\n",
       "TWUWUH    1\n",
       "TWUXIY    2\n",
       "URTXIY    0\n",
       "Name: booking_complete, Length: 799, dtype: int64"
      ]
     },
     "execution_count": 112,
     "metadata": {},
     "output_type": "execute_result"
    }
   ],
   "source": [
    "# If you want to print the numbers you can print\n",
    "df.groupby('route')['booking_complete'].sum()"
   ]
  },
  {
   "cell_type": "markdown",
   "id": "7837e7b9",
   "metadata": {},
   "source": [
    "### booking_origin is a categorical data"
   ]
  },
  {
   "cell_type": "code",
   "execution_count": 115,
   "id": "36801095",
   "metadata": {},
   "outputs": [
    {
     "data": {
      "text/plain": [
       "booking_origin\n",
       "Australia               17691\n",
       "Malaysia                 7055\n",
       "South Korea              4502\n",
       "Japan                    3819\n",
       "China                    3284\n",
       "                        ...  \n",
       "Panama                      1\n",
       "Tonga                       1\n",
       "Tanzania                    1\n",
       "Bulgaria                    1\n",
       "Svalbard & Jan Mayen        1\n",
       "Name: count, Length: 104, dtype: int64"
      ]
     },
     "execution_count": 115,
     "metadata": {},
     "output_type": "execute_result"
    }
   ],
   "source": [
    "df.booking_origin.value_counts()"
   ]
  },
  {
   "cell_type": "code",
   "execution_count": 116,
   "id": "d04c6796",
   "metadata": {},
   "outputs": [
    {
     "data": {
      "image/png": "[encoded data removed]",
      "text/plain": [
       "<Figure size 640x480 with 1 Axes>"
      ]
     },
     "metadata": {},
     "output_type": "display_data"
    }
   ],
   "source": [
    "#booking complition by booking_origin \n",
    "df.groupby('booking_origin')['booking_complete'].sum().plot(kind='bar',color=['#8f1402','#014d4e','#4b006e'])\n",
    "plt.ylabel('Booking Complition')\n",
    "plt.xticks(rotation=0)\n",
    "plt.title('Booking Complition by booking_origin')\n",
    "plt.show()"
   ]
  },
  {
   "cell_type": "code",
   "execution_count": 120,
   "id": "e95f64d8",
   "metadata": {},
   "outputs": [
    {
     "data": {
      "text/plain": [
       "booking_origin\n",
       "Australia               17691\n",
       "Malaysia                 7055\n",
       "South Korea              4502\n",
       "Japan                    3819\n",
       "China                    3284\n",
       "                        ...  \n",
       "Panama                      1\n",
       "Tonga                       1\n",
       "Tanzania                    1\n",
       "Bulgaria                    1\n",
       "Svalbard & Jan Mayen        1\n",
       "Name: count, Length: 104, dtype: int64"
      ]
     },
     "execution_count": 120,
     "metadata": {},
     "output_type": "execute_result"
    }
   ],
   "source": [
    "booking_origin_counts=df.booking_origin.value_counts()\n",
    "booking_origin_counts"
   ]
  },
  {
   "cell_type": "code",
   "execution_count": 126,
   "id": "058092e6",
   "metadata": {},
   "outputs": [
    {
     "data": {
      "text/plain": [
       "booking_origin\n",
       "Australia      17691\n",
       "Malaysia        7055\n",
       "South Korea     4502\n",
       "Japan           3819\n",
       "China           3284\n",
       "Name: count, dtype: int64"
      ]
     },
     "execution_count": 126,
     "metadata": {},
     "output_type": "execute_result"
    }
   ],
   "source": [
    "top_5_booking_origin=booking_origin_counts[booking_origin_counts>=3284]\n",
    "top_5_booking_origin"
   ]
  },
  {
   "cell_type": "markdown",
   "id": "78b8d7ed",
   "metadata": {},
   "source": [
    "### wants_extra_baggage is a categorical variable"
   ]
  },
  {
   "cell_type": "code",
   "execution_count": 134,
   "id": "8e017dfd",
   "metadata": {},
   "outputs": [
    {
     "data": {
      "text/plain": [
       "wants_extra_baggage\n",
       "1    32931\n",
       "0    16350\n",
       "Name: count, dtype: int64"
      ]
     },
     "execution_count": 134,
     "metadata": {},
     "output_type": "execute_result"
    }
   ],
   "source": [
    "df.wants_extra_baggage.value_counts()"
   ]
  },
  {
   "cell_type": "markdown",
   "id": "f7aa452c",
   "metadata": {},
   "source": [
    "Where 1 represents the people who wants extra baggage and 0 represents that the people who do not need any extra baggage"
   ]
  },
  {
   "cell_type": "code",
   "execution_count": 136,
   "id": "63f2e289",
   "metadata": {},
   "outputs": [
    {
     "data": {
      "text/plain": [
       "wants_extra_baggage\n",
       "0    1885\n",
       "1    5506\n",
       "Name: booking_complete, dtype: int64"
      ]
     },
     "execution_count": 136,
     "metadata": {},
     "output_type": "execute_result"
    }
   ],
   "source": [
    "# If you want to print the numbers you can print\n",
    "df.groupby('wants_extra_baggage')['booking_complete'].sum()"
   ]
  },
  {
   "cell_type": "markdown",
   "id": "cad1f41c",
   "metadata": {},
   "source": [
    "here the people who wants the extra baggage and they have completed the booking are 5506 and the people who didn't want extra baggage they have commpleted their booking is 1885"
   ]
  },
  {
   "cell_type": "markdown",
   "id": "9ae9be84",
   "metadata": {},
   "source": [
    "### Anova Test"
   ]
  },
  {
   "cell_type": "code",
   "execution_count": 137,
   "id": "5a82f76a",
   "metadata": {},
   "outputs": [
    {
     "data": {
      "text/html": [
       "<div>\n",
       "<style scoped>\n",
       "    .dataframe tbody tr th:only-of-type {\n",
       "        vertical-align: middle;\n",
       "    }\n",
       "\n",
       "    .dataframe tbody tr th {\n",
       "        vertical-align: top;\n",
       "    }\n",
       "\n",
       "    .dataframe thead th {\n",
       "        text-align: right;\n",
       "    }\n",
       "</style>\n",
       "<table border=\"1\" class=\"dataframe\">\n",
       "  <thead>\n",
       "    <tr style=\"text-align: right;\">\n",
       "      <th></th>\n",
       "      <th>df</th>\n",
       "      <th>sum_sq</th>\n",
       "      <th>mean_sq</th>\n",
       "      <th>F</th>\n",
       "      <th>PR(&gt;F)</th>\n",
       "    </tr>\n",
       "  </thead>\n",
       "  <tbody>\n",
       "    <tr>\n",
       "      <th>wants_extra_baggage</th>\n",
       "      <td>1.0</td>\n",
       "      <td>29.437736</td>\n",
       "      <td>29.437736</td>\n",
       "      <td>231.991451</td>\n",
       "      <td>2.885850e-52</td>\n",
       "    </tr>\n",
       "    <tr>\n",
       "      <th>Residual</th>\n",
       "      <td>49279.0</td>\n",
       "      <td>6253.084737</td>\n",
       "      <td>0.126891</td>\n",
       "      <td>NaN</td>\n",
       "      <td>NaN</td>\n",
       "    </tr>\n",
       "  </tbody>\n",
       "</table>\n",
       "</div>"
      ],
      "text/plain": [
       "                          df       sum_sq    mean_sq           F        PR(>F)\n",
       "wants_extra_baggage      1.0    29.437736  29.437736  231.991451  2.885850e-52\n",
       "Residual             49279.0  6253.084737   0.126891         NaN           NaN"
      ]
     },
     "execution_count": 137,
     "metadata": {},
     "output_type": "execute_result"
    }
   ],
   "source": [
    "model_wants_extra_baggage = ols('booking_complete ~wants_extra_baggage ',data = df).fit()\n",
    "anova_wants_extra_baggage = sm.stats.anova_lm(model_wants_extra_baggage)\n",
    "anova_wants_extra_baggage"
   ]
  },
  {
   "cell_type": "markdown",
   "id": "24052a8c",
   "metadata": {},
   "source": [
    "wants_extra_baggage is a good predictor (If the p_value is less than level of significance that is 0.05 then it is a good predictor)\n",
    "\n",
    "If the P-value is smaller than the level of significance (0.05), then it suggests that the observed relationship between the feature and the target variable is statistically significant"
   ]
  },
  {
   "cell_type": "code",
   "execution_count": 159,
   "id": "a7a493ed",
   "metadata": {},
   "outputs": [
    {
     "data": {
      "image/png": "[encoded data removed]",
      "text/plain": [
       "<Figure size 640x480 with 1 Axes>"
      ]
     },
     "metadata": {},
     "output_type": "display_data"
    }
   ],
   "source": [
    "# histogram\n",
    "plt.hist(df.wants_extra_baggage,color='silver')\n",
    "plt.xlabel('wants_extra_baggage')\n",
    "plt.ylabel('No of Booking completion')\n",
    "plt.title('Histogram of wants_extra_baggage')\n",
    "plt.show()"
   ]
  },
  {
   "cell_type": "markdown",
   "id": "69ad1769",
   "metadata": {},
   "source": [
    "### wants_preferred_seat is a categorical variable"
   ]
  },
  {
   "cell_type": "code",
   "execution_count": 133,
   "id": "16277d2a",
   "metadata": {},
   "outputs": [
    {
     "data": {
      "text/plain": [
       "wants_preferred_seat\n",
       "0    34712\n",
       "1    14569\n",
       "Name: count, dtype: int64"
      ]
     },
     "execution_count": 133,
     "metadata": {},
     "output_type": "execute_result"
    }
   ],
   "source": [
    "df.wants_preferred_seat.value_counts()"
   ]
  },
  {
   "cell_type": "markdown",
   "id": "7fa7efb5",
   "metadata": {},
   "source": [
    "Here 0 represents that the people didn't opted for any preference in seat where as 1 represents the people who have opted for any preference in seat"
   ]
  },
  {
   "cell_type": "code",
   "execution_count": 138,
   "id": "584c108b",
   "metadata": {},
   "outputs": [
    {
     "data": {
      "text/plain": [
       "wants_preferred_seat\n",
       "0    4803\n",
       "1    2588\n",
       "Name: booking_complete, dtype: int64"
      ]
     },
     "execution_count": 138,
     "metadata": {},
     "output_type": "execute_result"
    }
   ],
   "source": [
    "# If you want to print the numbers you can print\n",
    "df.groupby('wants_preferred_seat')['booking_complete'].sum()"
   ]
  },
  {
   "cell_type": "markdown",
   "id": "c0509efc",
   "metadata": {},
   "source": [
    "Here 0 represents that the people didn't opted for any preference in seat and they have completed their booking  where as 1 represents the people who have opted for any preference in seat and they have booked the seat"
   ]
  },
  {
   "cell_type": "markdown",
   "id": "b132bfe5",
   "metadata": {},
   "source": [
    "### Anova Test"
   ]
  },
  {
   "cell_type": "code",
   "execution_count": 143,
   "id": "295e4a56",
   "metadata": {},
   "outputs": [
    {
     "data": {
      "text/html": [
       "<div>\n",
       "<style scoped>\n",
       "    .dataframe tbody tr th:only-of-type {\n",
       "        vertical-align: middle;\n",
       "    }\n",
       "\n",
       "    .dataframe tbody tr th {\n",
       "        vertical-align: top;\n",
       "    }\n",
       "\n",
       "    .dataframe thead th {\n",
       "        text-align: right;\n",
       "    }\n",
       "</style>\n",
       "<table border=\"1\" class=\"dataframe\">\n",
       "  <thead>\n",
       "    <tr style=\"text-align: right;\">\n",
       "      <th></th>\n",
       "      <th>df</th>\n",
       "      <th>sum_sq</th>\n",
       "      <th>mean_sq</th>\n",
       "      <th>F</th>\n",
       "      <th>PR(&gt;F)</th>\n",
       "    </tr>\n",
       "  </thead>\n",
       "  <tbody>\n",
       "    <tr>\n",
       "      <th>wants_preferred_seat</th>\n",
       "      <td>1.0</td>\n",
       "      <td>15.825543</td>\n",
       "      <td>15.825543</td>\n",
       "      <td>124.44625</td>\n",
       "      <td>7.285791e-29</td>\n",
       "    </tr>\n",
       "    <tr>\n",
       "      <th>Residual</th>\n",
       "      <td>49279.0</td>\n",
       "      <td>6266.696930</td>\n",
       "      <td>0.127168</td>\n",
       "      <td>NaN</td>\n",
       "      <td>NaN</td>\n",
       "    </tr>\n",
       "  </tbody>\n",
       "</table>\n",
       "</div>"
      ],
      "text/plain": [
       "                           df       sum_sq    mean_sq          F        PR(>F)\n",
       "wants_preferred_seat      1.0    15.825543  15.825543  124.44625  7.285791e-29\n",
       "Residual              49279.0  6266.696930   0.127168        NaN           NaN"
      ]
     },
     "execution_count": 143,
     "metadata": {},
     "output_type": "execute_result"
    }
   ],
   "source": [
    "model_wants_preferred_seat = ols('booking_complete ~wants_preferred_seat ',data = df).fit()\n",
    "anova_wants_preferred_seat = sm.stats.anova_lm(model_wants_preferred_seat)\n",
    "anova_wants_preferred_seat"
   ]
  },
  {
   "cell_type": "markdown",
   "id": "e6dc3f9a",
   "metadata": {},
   "source": [
    "wants_extra_baggage is a good predictor (If the p_value is less than level of significance that is 0.05 then it is a good predictor)\n",
    "\n",
    "If the P-value is smaller than the level of significance (0.05), then it suggests that the observed relationship between the feature and the target variable is statistically significant"
   ]
  },
  {
   "cell_type": "markdown",
   "id": "bca4afd8",
   "metadata": {},
   "source": [
    "## wants_in_flight_meals is a categorical variable."
   ]
  },
  {
   "cell_type": "code",
   "execution_count": 141,
   "id": "5c1522b1",
   "metadata": {},
   "outputs": [
    {
     "data": {
      "text/plain": [
       "wants_in_flight_meals\n",
       "0    28256\n",
       "1    21025\n",
       "Name: count, dtype: int64"
      ]
     },
     "execution_count": 141,
     "metadata": {},
     "output_type": "execute_result"
    }
   ],
   "source": [
    "df.wants_in_flight_meals.value_counts()"
   ]
  },
  {
   "cell_type": "markdown",
   "id": "78c28f6c",
   "metadata": {},
   "source": [
    "Here 0 represents that the people didn't opted for any meal in plane where as 1 represents the people who have opted for any meal in plane."
   ]
  },
  {
   "cell_type": "code",
   "execution_count": 142,
   "id": "1e59692f",
   "metadata": {},
   "outputs": [
    {
     "data": {
      "text/plain": [
       "wants_in_flight_meals\n",
       "0    4008\n",
       "1    3383\n",
       "Name: booking_complete, dtype: int64"
      ]
     },
     "execution_count": 142,
     "metadata": {},
     "output_type": "execute_result"
    }
   ],
   "source": [
    "# If you want to print the numbers you can print\n",
    "df.groupby('wants_in_flight_meals')['booking_complete'].sum()"
   ]
  },
  {
   "cell_type": "markdown",
   "id": "02b28728",
   "metadata": {},
   "source": [
    "Here 0 represents that the people didn't opted for any meal and they have completed their booking  where as 1 represents the people who have opted for any meal and they have booked the seat."
   ]
  },
  {
   "cell_type": "markdown",
   "id": "f4624409",
   "metadata": {},
   "source": [
    "### Anova Test"
   ]
  },
  {
   "cell_type": "code",
   "execution_count": 144,
   "id": "48a99542",
   "metadata": {},
   "outputs": [
    {
     "data": {
      "text/html": [
       "<div>\n",
       "<style scoped>\n",
       "    .dataframe tbody tr th:only-of-type {\n",
       "        vertical-align: middle;\n",
       "    }\n",
       "\n",
       "    .dataframe tbody tr th {\n",
       "        vertical-align: top;\n",
       "    }\n",
       "\n",
       "    .dataframe thead th {\n",
       "        text-align: right;\n",
       "    }\n",
       "</style>\n",
       "<table border=\"1\" class=\"dataframe\">\n",
       "  <thead>\n",
       "    <tr style=\"text-align: right;\">\n",
       "      <th></th>\n",
       "      <th>df</th>\n",
       "      <th>sum_sq</th>\n",
       "      <th>mean_sq</th>\n",
       "      <th>F</th>\n",
       "      <th>PR(&gt;F)</th>\n",
       "    </tr>\n",
       "  </thead>\n",
       "  <tbody>\n",
       "    <tr>\n",
       "      <th>wants_in_flight_meals</th>\n",
       "      <td>1.0</td>\n",
       "      <td>4.378329</td>\n",
       "      <td>4.378329</td>\n",
       "      <td>34.366796</td>\n",
       "      <td>4.593443e-09</td>\n",
       "    </tr>\n",
       "    <tr>\n",
       "      <th>Residual</th>\n",
       "      <td>49279.0</td>\n",
       "      <td>6278.144144</td>\n",
       "      <td>0.127400</td>\n",
       "      <td>NaN</td>\n",
       "      <td>NaN</td>\n",
       "    </tr>\n",
       "  </tbody>\n",
       "</table>\n",
       "</div>"
      ],
      "text/plain": [
       "                            df       sum_sq   mean_sq          F        PR(>F)\n",
       "wants_in_flight_meals      1.0     4.378329  4.378329  34.366796  4.593443e-09\n",
       "Residual               49279.0  6278.144144  0.127400        NaN           NaN"
      ]
     },
     "execution_count": 144,
     "metadata": {},
     "output_type": "execute_result"
    }
   ],
   "source": [
    "model_wants_in_flight_meals = ols('booking_complete ~wants_in_flight_meals ',data = df).fit()\n",
    "anova_wants_in_flight_meals = sm.stats.anova_lm(model_wants_in_flight_meals)\n",
    "anova_wants_in_flight_meals"
   ]
  },
  {
   "cell_type": "markdown",
   "id": "adfff683",
   "metadata": {},
   "source": [
    "wants_extra_baggage is a good predictor (If the p_value is less than level of significance that is 0.05 then it is a good predictor)\n",
    "\n",
    "If the P-value is smaller than the level of significance (0.05), then it suggests that the observed relationship between the feature and the target variable is statistically significant"
   ]
  },
  {
   "cell_type": "code",
   "execution_count": 158,
   "id": "105b2259",
   "metadata": {},
   "outputs": [
    {
     "data": {
      "image/png": "[encoded data removed]",
      "text/plain": [
       "<Figure size 640x480 with 1 Axes>"
      ]
     },
     "metadata": {},
     "output_type": "display_data"
    }
   ],
   "source": [
    "# histogram\n",
    "plt.hist(df.wants_in_flight_meals,color='orange')\n",
    "plt.xlabel('wants_in_flight_meals')\n",
    "plt.ylabel('No of Booking completion')\n",
    "plt.title('Histogram of wants_in_flight_meals')\n",
    "plt.show()"
   ]
  },
  {
   "cell_type": "markdown",
   "id": "08ec52d8",
   "metadata": {},
   "source": [
    "### flight_duration is a continuous variable"
   ]
  },
  {
   "cell_type": "code",
   "execution_count": 148,
   "id": "ff013ecc",
   "metadata": {},
   "outputs": [
    {
     "data": {
      "text/plain": [
       "count    49281.000000\n",
       "mean         7.279974\n",
       "std          1.496390\n",
       "min          4.670000\n",
       "25%          5.620000\n",
       "50%          7.570000\n",
       "75%          8.830000\n",
       "max          9.500000\n",
       "Name: flight_duration, dtype: float64"
      ]
     },
     "execution_count": 148,
     "metadata": {},
     "output_type": "execute_result"
    }
   ],
   "source": [
    "df.flight_duration.describe()"
   ]
  },
  {
   "cell_type": "code",
   "execution_count": 156,
   "id": "5e9c58b8",
   "metadata": {},
   "outputs": [
    {
     "data": {
      "image/png": "[encoded data removed]",
      "text/plain": [
       "<Figure size 640x480 with 1 Axes>"
      ]
     },
     "metadata": {},
     "output_type": "display_data"
    }
   ],
   "source": [
    "# histogram\n",
    "plt.hist(df.flight_day,color='green')\n",
    "plt.xlabel('flight_duration')\n",
    "plt.ylabel('No of Booking completion')\n",
    "plt.title('Histogram of flight_duration')\n",
    "plt.show()"
   ]
  },
  {
   "cell_type": "code",
   "execution_count": 154,
   "id": "d047f1d6",
   "metadata": {},
   "outputs": [
    {
     "data": {
      "text/plain": [
       "flight_duration\n",
       "8.83    14339\n",
       "8.58     6892\n",
       "5.62     5464\n",
       "6.62     4658\n",
       "7.00     3314\n",
       "7.57     2785\n",
       "4.67     2699\n",
       "6.42     1708\n",
       "5.33     1506\n",
       "4.75     1246\n",
       "6.33     1178\n",
       "8.67      787\n",
       "5.52      664\n",
       "5.07      501\n",
       "4.72      486\n",
       "8.15      299\n",
       "5.00      237\n",
       "7.42      221\n",
       "4.83      145\n",
       "5.13      116\n",
       "9.50       36\n",
       "Name: count, dtype: int64"
      ]
     },
     "execution_count": 154,
     "metadata": {},
     "output_type": "execute_result"
    }
   ],
   "source": [
    "df.flight_duration.value_counts()"
   ]
  },
  {
   "cell_type": "code",
   "execution_count": 164,
   "id": "e25eebf8",
   "metadata": {},
   "outputs": [
    {
     "data": {
      "text/plain": [
       "flight_duration\n",
       "4.67     667\n",
       "4.72     117\n",
       "4.75     416\n",
       "4.83      19\n",
       "5.00      57\n",
       "5.07     119\n",
       "5.13      28\n",
       "5.33     381\n",
       "5.52      52\n",
       "5.62     514\n",
       "6.33     194\n",
       "6.42     369\n",
       "6.62     799\n",
       "7.00     727\n",
       "7.42      34\n",
       "7.57     498\n",
       "8.15       1\n",
       "8.58     538\n",
       "8.67     185\n",
       "8.83    1671\n",
       "9.50       5\n",
       "Name: booking_complete, dtype: int64"
      ]
     },
     "execution_count": 164,
     "metadata": {},
     "output_type": "execute_result"
    }
   ],
   "source": [
    "# If you want to print the numbers you can print\n",
    "df.groupby('flight_duration')['booking_complete'].sum()"
   ]
  },
  {
   "cell_type": "markdown",
   "id": "606768f5",
   "metadata": {},
   "source": [
    "### Anova Test"
   ]
  },
  {
   "cell_type": "code",
   "execution_count": 165,
   "id": "9f3e4612",
   "metadata": {},
   "outputs": [
    {
     "data": {
      "text/html": [
       "<div>\n",
       "<style scoped>\n",
       "    .dataframe tbody tr th:only-of-type {\n",
       "        vertical-align: middle;\n",
       "    }\n",
       "\n",
       "    .dataframe tbody tr th {\n",
       "        vertical-align: top;\n",
       "    }\n",
       "\n",
       "    .dataframe thead th {\n",
       "        text-align: right;\n",
       "    }\n",
       "</style>\n",
       "<table border=\"1\" class=\"dataframe\">\n",
       "  <thead>\n",
       "    <tr style=\"text-align: right;\">\n",
       "      <th></th>\n",
       "      <th>df</th>\n",
       "      <th>sum_sq</th>\n",
       "      <th>mean_sq</th>\n",
       "      <th>F</th>\n",
       "      <th>PR(&gt;F)</th>\n",
       "    </tr>\n",
       "  </thead>\n",
       "  <tbody>\n",
       "    <tr>\n",
       "      <th>flight_duration</th>\n",
       "      <td>1.0</td>\n",
       "      <td>71.296344</td>\n",
       "      <td>71.296344</td>\n",
       "      <td>565.655225</td>\n",
       "      <td>2.491830e-124</td>\n",
       "    </tr>\n",
       "    <tr>\n",
       "      <th>Residual</th>\n",
       "      <td>49279.0</td>\n",
       "      <td>6211.226130</td>\n",
       "      <td>0.126042</td>\n",
       "      <td>NaN</td>\n",
       "      <td>NaN</td>\n",
       "    </tr>\n",
       "  </tbody>\n",
       "</table>\n",
       "</div>"
      ],
      "text/plain": [
       "                      df       sum_sq    mean_sq           F         PR(>F)\n",
       "flight_duration      1.0    71.296344  71.296344  565.655225  2.491830e-124\n",
       "Residual         49279.0  6211.226130   0.126042         NaN            NaN"
      ]
     },
     "execution_count": 165,
     "metadata": {},
     "output_type": "execute_result"
    }
   ],
   "source": [
    "model_flight_duration = ols('booking_complete ~flight_duration ',data = df).fit()\n",
    "anova_flight_duration = sm.stats.anova_lm(model_flight_duration)\n",
    "anova_flight_duration"
   ]
  },
  {
   "cell_type": "markdown",
   "id": "aac5c24c",
   "metadata": {},
   "source": [
    "wants_extra_baggage is a good predictor (If the p_value is less than level of significance that is 0.05 then it is a good predictor)\n",
    "\n",
    "If the P-value is smaller than the level of significance (0.05), then it suggests that the observed relationship between the feature and the target variable is statistically significant"
   ]
  },
  {
   "cell_type": "code",
   "execution_count": 167,
   "id": "d91914b2",
   "metadata": {},
   "outputs": [
    {
     "data": {
      "text/html": [
       "<div>\n",
       "<style scoped>\n",
       "    .dataframe tbody tr th:only-of-type {\n",
       "        vertical-align: middle;\n",
       "    }\n",
       "\n",
       "    .dataframe tbody tr th {\n",
       "        vertical-align: top;\n",
       "    }\n",
       "\n",
       "    .dataframe thead th {\n",
       "        text-align: right;\n",
       "    }\n",
       "</style>\n",
       "<table border=\"1\" class=\"dataframe\">\n",
       "  <thead>\n",
       "    <tr style=\"text-align: right;\">\n",
       "      <th></th>\n",
       "      <th>num_passengers</th>\n",
       "      <th>sales_channel</th>\n",
       "      <th>trip_type</th>\n",
       "      <th>purchase_lead</th>\n",
       "      <th>length_of_stay</th>\n",
       "      <th>flight_hour</th>\n",
       "      <th>flight_day</th>\n",
       "      <th>route</th>\n",
       "      <th>booking_origin</th>\n",
       "      <th>wants_extra_baggage</th>\n",
       "      <th>wants_preferred_seat</th>\n",
       "      <th>wants_in_flight_meals</th>\n",
       "      <th>flight_duration</th>\n",
       "      <th>booking_complete</th>\n",
       "    </tr>\n",
       "  </thead>\n",
       "  <tbody>\n",
       "    <tr>\n",
       "      <th>0</th>\n",
       "      <td>2</td>\n",
       "      <td>Internet</td>\n",
       "      <td>RoundTrip</td>\n",
       "      <td>262</td>\n",
       "      <td>19</td>\n",
       "      <td>7</td>\n",
       "      <td>6</td>\n",
       "      <td>AKLDEL</td>\n",
       "      <td>New Zealand</td>\n",
       "      <td>1</td>\n",
       "      <td>0</td>\n",
       "      <td>0</td>\n",
       "      <td>5.52</td>\n",
       "      <td>0</td>\n",
       "    </tr>\n",
       "    <tr>\n",
       "      <th>1</th>\n",
       "      <td>1</td>\n",
       "      <td>Internet</td>\n",
       "      <td>RoundTrip</td>\n",
       "      <td>112</td>\n",
       "      <td>20</td>\n",
       "      <td>3</td>\n",
       "      <td>6</td>\n",
       "      <td>AKLDEL</td>\n",
       "      <td>New Zealand</td>\n",
       "      <td>0</td>\n",
       "      <td>0</td>\n",
       "      <td>0</td>\n",
       "      <td>5.52</td>\n",
       "      <td>0</td>\n",
       "    </tr>\n",
       "    <tr>\n",
       "      <th>2</th>\n",
       "      <td>2</td>\n",
       "      <td>Internet</td>\n",
       "      <td>RoundTrip</td>\n",
       "      <td>243</td>\n",
       "      <td>22</td>\n",
       "      <td>17</td>\n",
       "      <td>3</td>\n",
       "      <td>AKLDEL</td>\n",
       "      <td>India</td>\n",
       "      <td>1</td>\n",
       "      <td>1</td>\n",
       "      <td>0</td>\n",
       "      <td>5.52</td>\n",
       "      <td>0</td>\n",
       "    </tr>\n",
       "    <tr>\n",
       "      <th>3</th>\n",
       "      <td>1</td>\n",
       "      <td>Internet</td>\n",
       "      <td>RoundTrip</td>\n",
       "      <td>96</td>\n",
       "      <td>31</td>\n",
       "      <td>4</td>\n",
       "      <td>6</td>\n",
       "      <td>AKLDEL</td>\n",
       "      <td>New Zealand</td>\n",
       "      <td>0</td>\n",
       "      <td>0</td>\n",
       "      <td>1</td>\n",
       "      <td>5.52</td>\n",
       "      <td>0</td>\n",
       "    </tr>\n",
       "    <tr>\n",
       "      <th>4</th>\n",
       "      <td>2</td>\n",
       "      <td>Internet</td>\n",
       "      <td>RoundTrip</td>\n",
       "      <td>68</td>\n",
       "      <td>22</td>\n",
       "      <td>15</td>\n",
       "      <td>3</td>\n",
       "      <td>AKLDEL</td>\n",
       "      <td>India</td>\n",
       "      <td>1</td>\n",
       "      <td>0</td>\n",
       "      <td>1</td>\n",
       "      <td>5.52</td>\n",
       "      <td>0</td>\n",
       "    </tr>\n",
       "    <tr>\n",
       "      <th>...</th>\n",
       "      <td>...</td>\n",
       "      <td>...</td>\n",
       "      <td>...</td>\n",
       "      <td>...</td>\n",
       "      <td>...</td>\n",
       "      <td>...</td>\n",
       "      <td>...</td>\n",
       "      <td>...</td>\n",
       "      <td>...</td>\n",
       "      <td>...</td>\n",
       "      <td>...</td>\n",
       "      <td>...</td>\n",
       "      <td>...</td>\n",
       "      <td>...</td>\n",
       "    </tr>\n",
       "    <tr>\n",
       "      <th>49276</th>\n",
       "      <td>2</td>\n",
       "      <td>Internet</td>\n",
       "      <td>RoundTrip</td>\n",
       "      <td>27</td>\n",
       "      <td>6</td>\n",
       "      <td>9</td>\n",
       "      <td>6</td>\n",
       "      <td>PERPNH</td>\n",
       "      <td>Australia</td>\n",
       "      <td>1</td>\n",
       "      <td>0</td>\n",
       "      <td>1</td>\n",
       "      <td>5.62</td>\n",
       "      <td>0</td>\n",
       "    </tr>\n",
       "    <tr>\n",
       "      <th>49277</th>\n",
       "      <td>1</td>\n",
       "      <td>Internet</td>\n",
       "      <td>RoundTrip</td>\n",
       "      <td>111</td>\n",
       "      <td>6</td>\n",
       "      <td>4</td>\n",
       "      <td>7</td>\n",
       "      <td>PERPNH</td>\n",
       "      <td>Australia</td>\n",
       "      <td>0</td>\n",
       "      <td>0</td>\n",
       "      <td>0</td>\n",
       "      <td>5.62</td>\n",
       "      <td>0</td>\n",
       "    </tr>\n",
       "    <tr>\n",
       "      <th>49278</th>\n",
       "      <td>1</td>\n",
       "      <td>Internet</td>\n",
       "      <td>RoundTrip</td>\n",
       "      <td>24</td>\n",
       "      <td>6</td>\n",
       "      <td>22</td>\n",
       "      <td>6</td>\n",
       "      <td>PERPNH</td>\n",
       "      <td>Australia</td>\n",
       "      <td>0</td>\n",
       "      <td>0</td>\n",
       "      <td>1</td>\n",
       "      <td>5.62</td>\n",
       "      <td>0</td>\n",
       "    </tr>\n",
       "    <tr>\n",
       "      <th>49279</th>\n",
       "      <td>1</td>\n",
       "      <td>Internet</td>\n",
       "      <td>RoundTrip</td>\n",
       "      <td>15</td>\n",
       "      <td>6</td>\n",
       "      <td>11</td>\n",
       "      <td>1</td>\n",
       "      <td>PERPNH</td>\n",
       "      <td>Australia</td>\n",
       "      <td>1</td>\n",
       "      <td>0</td>\n",
       "      <td>1</td>\n",
       "      <td>5.62</td>\n",
       "      <td>0</td>\n",
       "    </tr>\n",
       "    <tr>\n",
       "      <th>49280</th>\n",
       "      <td>1</td>\n",
       "      <td>Internet</td>\n",
       "      <td>RoundTrip</td>\n",
       "      <td>19</td>\n",
       "      <td>6</td>\n",
       "      <td>10</td>\n",
       "      <td>4</td>\n",
       "      <td>PERPNH</td>\n",
       "      <td>Australia</td>\n",
       "      <td>0</td>\n",
       "      <td>1</td>\n",
       "      <td>0</td>\n",
       "      <td>5.62</td>\n",
       "      <td>0</td>\n",
       "    </tr>\n",
       "  </tbody>\n",
       "</table>\n",
       "<p>49281 rows × 14 columns</p>\n",
       "</div>"
      ],
      "text/plain": [
       "       num_passengers sales_channel  trip_type  purchase_lead  length_of_stay  \\\n",
       "0                   2      Internet  RoundTrip            262              19   \n",
       "1                   1      Internet  RoundTrip            112              20   \n",
       "2                   2      Internet  RoundTrip            243              22   \n",
       "3                   1      Internet  RoundTrip             96              31   \n",
       "4                   2      Internet  RoundTrip             68              22   \n",
       "...               ...           ...        ...            ...             ...   \n",
       "49276               2      Internet  RoundTrip             27               6   \n",
       "49277               1      Internet  RoundTrip            111               6   \n",
       "49278               1      Internet  RoundTrip             24               6   \n",
       "49279               1      Internet  RoundTrip             15               6   \n",
       "49280               1      Internet  RoundTrip             19               6   \n",
       "\n",
       "       flight_hour  flight_day   route booking_origin  wants_extra_baggage  \\\n",
       "0                7           6  AKLDEL    New Zealand                    1   \n",
       "1                3           6  AKLDEL    New Zealand                    0   \n",
       "2               17           3  AKLDEL          India                    1   \n",
       "3                4           6  AKLDEL    New Zealand                    0   \n",
       "4               15           3  AKLDEL          India                    1   \n",
       "...            ...         ...     ...            ...                  ...   \n",
       "49276            9           6  PERPNH      Australia                    1   \n",
       "49277            4           7  PERPNH      Australia                    0   \n",
       "49278           22           6  PERPNH      Australia                    0   \n",
       "49279           11           1  PERPNH      Australia                    1   \n",
       "49280           10           4  PERPNH      Australia                    0   \n",
       "\n",
       "       wants_preferred_seat  wants_in_flight_meals  flight_duration  \\\n",
       "0                         0                      0             5.52   \n",
       "1                         0                      0             5.52   \n",
       "2                         1                      0             5.52   \n",
       "3                         0                      1             5.52   \n",
       "4                         0                      1             5.52   \n",
       "...                     ...                    ...              ...   \n",
       "49276                     0                      1             5.62   \n",
       "49277                     0                      0             5.62   \n",
       "49278                     0                      1             5.62   \n",
       "49279                     0                      1             5.62   \n",
       "49280                     1                      0             5.62   \n",
       "\n",
       "       booking_complete  \n",
       "0                     0  \n",
       "1                     0  \n",
       "2                     0  \n",
       "3                     0  \n",
       "4                     0  \n",
       "...                 ...  \n",
       "49276                 0  \n",
       "49277                 0  \n",
       "49278                 0  \n",
       "49279                 0  \n",
       "49280                 0  \n",
       "\n",
       "[49281 rows x 14 columns]"
      ]
     },
     "execution_count": 167,
     "metadata": {},
     "output_type": "execute_result"
    }
   ],
   "source": [
    "df"
   ]
  },
  {
   "cell_type": "code",
   "execution_count": 169,
   "id": "3a63d5f6",
   "metadata": {},
   "outputs": [],
   "source": [
    "df1=df.copy()"
   ]
  },
  {
   "cell_type": "code",
   "execution_count": 171,
   "id": "61757063",
   "metadata": {},
   "outputs": [],
   "source": [
    "#encoding the categorical feature with label encoding.\n",
    "from sklearn.preprocessing import LabelEncoder\n",
    "categorical=['route','booking_origin','sales_channel','trip_type']\n",
    "le=LabelEncoder()\n",
    "for i in categorical:\n",
    "    df1[i]=le.fit_transform(df1[i])"
   ]
  },
  {
   "cell_type": "code",
   "execution_count": 172,
   "id": "f2b0e5b5",
   "metadata": {},
   "outputs": [
    {
     "data": {
      "text/html": [
       "<div>\n",
       "<style scoped>\n",
       "    .dataframe tbody tr th:only-of-type {\n",
       "        vertical-align: middle;\n",
       "    }\n",
       "\n",
       "    .dataframe tbody tr th {\n",
       "        vertical-align: top;\n",
       "    }\n",
       "\n",
       "    .dataframe thead th {\n",
       "        text-align: right;\n",
       "    }\n",
       "</style>\n",
       "<table border=\"1\" class=\"dataframe\">\n",
       "  <thead>\n",
       "    <tr style=\"text-align: right;\">\n",
       "      <th></th>\n",
       "      <th>num_passengers</th>\n",
       "      <th>sales_channel</th>\n",
       "      <th>trip_type</th>\n",
       "      <th>purchase_lead</th>\n",
       "      <th>length_of_stay</th>\n",
       "      <th>flight_hour</th>\n",
       "      <th>flight_day</th>\n",
       "      <th>route</th>\n",
       "      <th>booking_origin</th>\n",
       "      <th>wants_extra_baggage</th>\n",
       "      <th>wants_preferred_seat</th>\n",
       "      <th>wants_in_flight_meals</th>\n",
       "      <th>flight_duration</th>\n",
       "      <th>booking_complete</th>\n",
       "    </tr>\n",
       "  </thead>\n",
       "  <tbody>\n",
       "    <tr>\n",
       "      <th>0</th>\n",
       "      <td>2</td>\n",
       "      <td>0</td>\n",
       "      <td>2</td>\n",
       "      <td>262</td>\n",
       "      <td>19</td>\n",
       "      <td>7</td>\n",
       "      <td>6</td>\n",
       "      <td>0</td>\n",
       "      <td>61</td>\n",
       "      <td>1</td>\n",
       "      <td>0</td>\n",
       "      <td>0</td>\n",
       "      <td>5.52</td>\n",
       "      <td>0</td>\n",
       "    </tr>\n",
       "    <tr>\n",
       "      <th>1</th>\n",
       "      <td>1</td>\n",
       "      <td>0</td>\n",
       "      <td>2</td>\n",
       "      <td>112</td>\n",
       "      <td>20</td>\n",
       "      <td>3</td>\n",
       "      <td>6</td>\n",
       "      <td>0</td>\n",
       "      <td>61</td>\n",
       "      <td>0</td>\n",
       "      <td>0</td>\n",
       "      <td>0</td>\n",
       "      <td>5.52</td>\n",
       "      <td>0</td>\n",
       "    </tr>\n",
       "    <tr>\n",
       "      <th>2</th>\n",
       "      <td>2</td>\n",
       "      <td>0</td>\n",
       "      <td>2</td>\n",
       "      <td>243</td>\n",
       "      <td>22</td>\n",
       "      <td>17</td>\n",
       "      <td>3</td>\n",
       "      <td>0</td>\n",
       "      <td>36</td>\n",
       "      <td>1</td>\n",
       "      <td>1</td>\n",
       "      <td>0</td>\n",
       "      <td>5.52</td>\n",
       "      <td>0</td>\n",
       "    </tr>\n",
       "    <tr>\n",
       "      <th>3</th>\n",
       "      <td>1</td>\n",
       "      <td>0</td>\n",
       "      <td>2</td>\n",
       "      <td>96</td>\n",
       "      <td>31</td>\n",
       "      <td>4</td>\n",
       "      <td>6</td>\n",
       "      <td>0</td>\n",
       "      <td>61</td>\n",
       "      <td>0</td>\n",
       "      <td>0</td>\n",
       "      <td>1</td>\n",
       "      <td>5.52</td>\n",
       "      <td>0</td>\n",
       "    </tr>\n",
       "    <tr>\n",
       "      <th>4</th>\n",
       "      <td>2</td>\n",
       "      <td>0</td>\n",
       "      <td>2</td>\n",
       "      <td>68</td>\n",
       "      <td>22</td>\n",
       "      <td>15</td>\n",
       "      <td>3</td>\n",
       "      <td>0</td>\n",
       "      <td>36</td>\n",
       "      <td>1</td>\n",
       "      <td>0</td>\n",
       "      <td>1</td>\n",
       "      <td>5.52</td>\n",
       "      <td>0</td>\n",
       "    </tr>\n",
       "    <tr>\n",
       "      <th>...</th>\n",
       "      <td>...</td>\n",
       "      <td>...</td>\n",
       "      <td>...</td>\n",
       "      <td>...</td>\n",
       "      <td>...</td>\n",
       "      <td>...</td>\n",
       "      <td>...</td>\n",
       "      <td>...</td>\n",
       "      <td>...</td>\n",
       "      <td>...</td>\n",
       "      <td>...</td>\n",
       "      <td>...</td>\n",
       "      <td>...</td>\n",
       "      <td>...</td>\n",
       "    </tr>\n",
       "    <tr>\n",
       "      <th>49276</th>\n",
       "      <td>2</td>\n",
       "      <td>0</td>\n",
       "      <td>2</td>\n",
       "      <td>27</td>\n",
       "      <td>6</td>\n",
       "      <td>9</td>\n",
       "      <td>6</td>\n",
       "      <td>720</td>\n",
       "      <td>4</td>\n",
       "      <td>1</td>\n",
       "      <td>0</td>\n",
       "      <td>1</td>\n",
       "      <td>5.62</td>\n",
       "      <td>0</td>\n",
       "    </tr>\n",
       "    <tr>\n",
       "      <th>49277</th>\n",
       "      <td>1</td>\n",
       "      <td>0</td>\n",
       "      <td>2</td>\n",
       "      <td>111</td>\n",
       "      <td>6</td>\n",
       "      <td>4</td>\n",
       "      <td>7</td>\n",
       "      <td>720</td>\n",
       "      <td>4</td>\n",
       "      <td>0</td>\n",
       "      <td>0</td>\n",
       "      <td>0</td>\n",
       "      <td>5.62</td>\n",
       "      <td>0</td>\n",
       "    </tr>\n",
       "    <tr>\n",
       "      <th>49278</th>\n",
       "      <td>1</td>\n",
       "      <td>0</td>\n",
       "      <td>2</td>\n",
       "      <td>24</td>\n",
       "      <td>6</td>\n",
       "      <td>22</td>\n",
       "      <td>6</td>\n",
       "      <td>720</td>\n",
       "      <td>4</td>\n",
       "      <td>0</td>\n",
       "      <td>0</td>\n",
       "      <td>1</td>\n",
       "      <td>5.62</td>\n",
       "      <td>0</td>\n",
       "    </tr>\n",
       "    <tr>\n",
       "      <th>49279</th>\n",
       "      <td>1</td>\n",
       "      <td>0</td>\n",
       "      <td>2</td>\n",
       "      <td>15</td>\n",
       "      <td>6</td>\n",
       "      <td>11</td>\n",
       "      <td>1</td>\n",
       "      <td>720</td>\n",
       "      <td>4</td>\n",
       "      <td>1</td>\n",
       "      <td>0</td>\n",
       "      <td>1</td>\n",
       "      <td>5.62</td>\n",
       "      <td>0</td>\n",
       "    </tr>\n",
       "    <tr>\n",
       "      <th>49280</th>\n",
       "      <td>1</td>\n",
       "      <td>0</td>\n",
       "      <td>2</td>\n",
       "      <td>19</td>\n",
       "      <td>6</td>\n",
       "      <td>10</td>\n",
       "      <td>4</td>\n",
       "      <td>720</td>\n",
       "      <td>4</td>\n",
       "      <td>0</td>\n",
       "      <td>1</td>\n",
       "      <td>0</td>\n",
       "      <td>5.62</td>\n",
       "      <td>0</td>\n",
       "    </tr>\n",
       "  </tbody>\n",
       "</table>\n",
       "<p>49281 rows × 14 columns</p>\n",
       "</div>"
      ],
      "text/plain": [
       "       num_passengers  sales_channel  trip_type  purchase_lead  \\\n",
       "0                   2              0          2            262   \n",
       "1                   1              0          2            112   \n",
       "2                   2              0          2            243   \n",
       "3                   1              0          2             96   \n",
       "4                   2              0          2             68   \n",
       "...               ...            ...        ...            ...   \n",
       "49276               2              0          2             27   \n",
       "49277               1              0          2            111   \n",
       "49278               1              0          2             24   \n",
       "49279               1              0          2             15   \n",
       "49280               1              0          2             19   \n",
       "\n",
       "       length_of_stay  flight_hour  flight_day  route  booking_origin  \\\n",
       "0                  19            7           6      0              61   \n",
       "1                  20            3           6      0              61   \n",
       "2                  22           17           3      0              36   \n",
       "3                  31            4           6      0              61   \n",
       "4                  22           15           3      0              36   \n",
       "...               ...          ...         ...    ...             ...   \n",
       "49276               6            9           6    720               4   \n",
       "49277               6            4           7    720               4   \n",
       "49278               6           22           6    720               4   \n",
       "49279               6           11           1    720               4   \n",
       "49280               6           10           4    720               4   \n",
       "\n",
       "       wants_extra_baggage  wants_preferred_seat  wants_in_flight_meals  \\\n",
       "0                        1                     0                      0   \n",
       "1                        0                     0                      0   \n",
       "2                        1                     1                      0   \n",
       "3                        0                     0                      1   \n",
       "4                        1                     0                      1   \n",
       "...                    ...                   ...                    ...   \n",
       "49276                    1                     0                      1   \n",
       "49277                    0                     0                      0   \n",
       "49278                    0                     0                      1   \n",
       "49279                    1                     0                      1   \n",
       "49280                    0                     1                      0   \n",
       "\n",
       "       flight_duration  booking_complete  \n",
       "0                 5.52                 0  \n",
       "1                 5.52                 0  \n",
       "2                 5.52                 0  \n",
       "3                 5.52                 0  \n",
       "4                 5.52                 0  \n",
       "...                ...               ...  \n",
       "49276             5.62                 0  \n",
       "49277             5.62                 0  \n",
       "49278             5.62                 0  \n",
       "49279             5.62                 0  \n",
       "49280             5.62                 0  \n",
       "\n",
       "[49281 rows x 14 columns]"
      ]
     },
     "execution_count": 172,
     "metadata": {},
     "output_type": "execute_result"
    }
   ],
   "source": [
    "df1"
   ]
  },
  {
   "cell_type": "markdown",
   "id": "5f5b3d47",
   "metadata": {},
   "source": [
    "### Splitting the dataset"
   ]
  },
  {
   "cell_type": "code",
   "execution_count": 175,
   "id": "578a3cbc",
   "metadata": {},
   "outputs": [],
   "source": [
    "X=df1.drop(columns='booking_complete',axis=1)\n",
    "y=df1.booking_complete"
   ]
  },
  {
   "cell_type": "code",
   "execution_count": 176,
   "id": "2427b8b2",
   "metadata": {},
   "outputs": [],
   "source": [
    "X_train,X_test,y_train,y_test=train_test_split(X,y,test_size=0.3,random_state=0)"
   ]
  },
  {
   "cell_type": "markdown",
   "id": "b659ac20",
   "metadata": {},
   "source": [
    "### Building the model"
   ]
  },
  {
   "cell_type": "code",
   "execution_count": 177,
   "id": "cda6d708",
   "metadata": {},
   "outputs": [],
   "source": [
    "model1 = RandomForestRegressor(n_estimators=100,random_state=0)\n",
    "model1.fit(X_train,y_train)\n",
    "y_train_pred=model1.predict(X_train)\n",
    "y_test_pred=model1.predict(X_test)"
   ]
  },
  {
   "cell_type": "code",
   "execution_count": 178,
   "id": "1c5e0b65",
   "metadata": {},
   "outputs": [],
   "source": [
    "from sklearn.metrics import mean_squared_error,r2_score\n",
    "train_mse=mean_squared_error(y_train,y_train_pred)\n",
    "test_mse=mean_squared_error(y_test,y_test_pred)"
   ]
  },
  {
   "cell_type": "code",
   "execution_count": 179,
   "id": "423d9e7b",
   "metadata": {},
   "outputs": [
    {
     "name": "stdout",
     "output_type": "stream",
     "text": [
      "MSE_y_train =0.016088593438829808\n",
      "MSE_y_test =0.11594254076690308\n"
     ]
    }
   ],
   "source": [
    "print(f'MSE_y_train ={train_mse}')\n",
    "print(f'MSE_y_test ={test_mse}')"
   ]
  },
  {
   "cell_type": "code",
   "execution_count": 180,
   "id": "60214b5d",
   "metadata": {},
   "outputs": [
    {
     "name": "stdout",
     "output_type": "stream",
     "text": [
      "RMSE_y_train =0.1268408192926465\n",
      "RMSE_y_test =0.3405033638114359\n"
     ]
    }
   ],
   "source": [
    "print(f'RMSE_y_train ={np.sqrt(train_mse)}')\n",
    "print(f'RMSE_y_test ={np.sqrt(test_mse)}')"
   ]
  },
  {
   "cell_type": "code",
   "execution_count": 181,
   "id": "f79baca4",
   "metadata": {},
   "outputs": [
    {
     "name": "stdout",
     "output_type": "stream",
     "text": [
      "train_r-squared =0.8733022356497898\n",
      "test_r-squared =0.09874343663493856\n"
     ]
    }
   ],
   "source": [
    "print(f'train_r-squared ={r2_score(y_train,y_train_pred)}')\n",
    "print(f'test_r-squared ={r2_score(y_test,y_test_pred)}')"
   ]
  }
 ],
 "metadata": {
  "kernelspec": {
   "display_name": "Python 3 (ipykernel)",
   "language": "python",
   "name": "python3"
  },
  "language_info": {
   "codemirror_mode": {
    "name": "ipython",
    "version": 3
   },
   "file_extension": ".py",
   "mimetype": "text/x-python",
   "name": "python",
   "nbconvert_exporter": "python",
   "pygments_lexer": "ipython3",
   "version": "3.11.7"
  }
 },
 "nbformat": 4,
 "nbformat_minor": 5
}
